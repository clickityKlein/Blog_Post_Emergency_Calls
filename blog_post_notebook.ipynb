{
 "cells": [
  {
   "cell_type": "markdown",
   "id": "690d1d33",
   "metadata": {},
   "source": [
    "## Initialization\n",
    "We'll start off by importing the necessary libraries and modules. Unique to this notebook will be a separate notebook containing any\n",
    "functions required for this project."
   ]
  },
  {
   "cell_type": "code",
   "execution_count": 2,
   "id": "aca8b8be",
   "metadata": {},
   "outputs": [],
   "source": [
    "# Importing the standard libraries and modules\n",
    "import numpy as np\n",
    "import pandas as pd\n",
    "import matplotlib.pyplot as plt\n",
    "import seaborn as sb\n",
    "from sklearn.linear_model import LinearRegression\n",
    "from sklearn.model_selection import train_test_split\n",
    "from sklearn.metrics import r2_score, mean_squared_error"
   ]
  },
  {
   "cell_type": "code",
   "execution_count": 1,
   "id": "95de5053",
   "metadata": {},
   "outputs": [],
   "source": [
    "# Importing the file containing our unique functions\n",
    "\"\"\"\n",
    "vals_by_col\n",
    "date_to_col\n",
    "secondary_unique\n",
    "counts_to_portions\n",
    "expand_categories\n",
    "\"\"\"\n",
    "# pip install ipynb\n",
    "from ipynb.fs.full.blog_post_functions import *"
   ]
  },
  {
   "cell_type": "markdown",
   "id": "e5fe32e1",
   "metadata": {},
   "source": [
    "## Load Data and Perform Initial Inspection\n",
    "We gathered our data from https://data.seattle.gov/Public-Safety/Call-Data/33kz-ixgy, which provided a dataset named \"Call Data\" containing data on emergency calls to the Seattle Police Department call center.\n",
    "\n",
    "The dataset itself is just over 5 million rows, and very much so over GitHub's size limitation. The dataset we will be performing our analysis on is a subset containing 10,000 rows of data."
   ]
  },
  {
   "cell_type": "code",
   "execution_count": null,
   "id": "b968be62",
   "metadata": {},
   "outputs": [],
   "source": [
    "\"\"\"\n",
    "DO NOT RUN!\n",
    "\n",
    "This cell will not run, it is only included to show how we obtained our subset.\n",
    "\"\"\"\n",
    "\n",
    "df = pd.read_csv('Call_Data.csv')\n",
    "\n",
    "np.random.seed(0)\n",
    "df_sample = np.random.choice(df.shape[0], 10000, replace = False)\n",
    "df_subset = df.loc[df_sample]\n",
    "\n",
    "df_subset.to_csv('Call_Data_Subset.csv')"
   ]
  },
  {
   "cell_type": "code",
   "execution_count": 3,
   "id": "c2966831",
   "metadata": {},
   "outputs": [],
   "source": [
    "# Loading the Data (pretending we're starting with the 10,000 row dataset)\n",
    "df = pd.read_csv('Call_Data_Subset.csv')"
   ]
  },
  {
   "cell_type": "markdown",
   "id": "a9d9469b",
   "metadata": {},
   "source": [
    "## Initial Inspection\n",
    "1. Check data types, and how it is all formatted.\n",
    "2. Check for missing values, and amount of missing values.\n",
    "3. Look for anything unique. Is there anything we haven't encountered before?"
   ]
  },
  {
   "cell_type": "code",
   "execution_count": 7,
   "id": "cd6ec9cf",
   "metadata": {},
   "outputs": [
    {
     "data": {
      "text/plain": [
       "(10000, 12)"
      ]
     },
     "execution_count": 7,
     "metadata": {},
     "output_type": "execute_result"
    }
   ],
   "source": [
    "# Overall shape\n",
    "df.shape"
   ]
  },
  {
   "cell_type": "code",
   "execution_count": 9,
   "id": "60477948",
   "metadata": {},
   "outputs": [
    {
     "name": "stdout",
     "output_type": "stream",
     "text": [
      "Index(['Unnamed: 0', 'CAD Event Number', 'Event Clearance Description',\n",
      "       'Call Type', 'Priority', 'Initial Call Type', 'Final Call Type',\n",
      "       'Original Time Queued', 'Arrived Time', 'Precinct', 'Sector', 'Beat'],\n",
      "      dtype='object')\n"
     ]
    }
   ],
   "source": [
    "# Columns\n",
    "df.columns"
   ]
  },
  {
   "cell_type": "code",
   "execution_count": 10,
   "id": "9221392d",
   "metadata": {},
   "outputs": [
    {
     "data": {
      "text/html": [
       "<div>\n",
       "<style scoped>\n",
       "    .dataframe tbody tr th:only-of-type {\n",
       "        vertical-align: middle;\n",
       "    }\n",
       "\n",
       "    .dataframe tbody tr th {\n",
       "        vertical-align: top;\n",
       "    }\n",
       "\n",
       "    .dataframe thead th {\n",
       "        text-align: right;\n",
       "    }\n",
       "</style>\n",
       "<table border=\"1\" class=\"dataframe\">\n",
       "  <thead>\n",
       "    <tr style=\"text-align: right;\">\n",
       "      <th></th>\n",
       "      <th>Unnamed: 0</th>\n",
       "      <th>CAD Event Number</th>\n",
       "      <th>Event Clearance Description</th>\n",
       "      <th>Call Type</th>\n",
       "      <th>Priority</th>\n",
       "      <th>Initial Call Type</th>\n",
       "      <th>Final Call Type</th>\n",
       "      <th>Original Time Queued</th>\n",
       "      <th>Arrived Time</th>\n",
       "      <th>Precinct</th>\n",
       "      <th>Sector</th>\n",
       "      <th>Beat</th>\n",
       "    </tr>\n",
       "  </thead>\n",
       "  <tbody>\n",
       "    <tr>\n",
       "      <th>0</th>\n",
       "      <td>2255988</td>\n",
       "      <td>2017000106644</td>\n",
       "      <td>PROBLEM SOLVING PROJECT</td>\n",
       "      <td>ONVIEW</td>\n",
       "      <td>4</td>\n",
       "      <td>REQUEST TO WATCH</td>\n",
       "      <td>--PREMISE CHECKS - REQUEST TO WATCH</td>\n",
       "      <td>03/27/2017 05:02:47 AM</td>\n",
       "      <td>03/27/2017 05:02:47 AM</td>\n",
       "      <td>SOUTH</td>\n",
       "      <td>OCEAN</td>\n",
       "      <td>O3</td>\n",
       "    </tr>\n",
       "    <tr>\n",
       "      <th>1</th>\n",
       "      <td>602424</td>\n",
       "      <td>2022000027644</td>\n",
       "      <td>ASSISTANCE RENDERED</td>\n",
       "      <td>ONVIEW</td>\n",
       "      <td>9</td>\n",
       "      <td>-ASSIGNED DUTY - DETAIL BY SUPERVISOR</td>\n",
       "      <td>--MISCHIEF OR NUISANCE - GENERAL</td>\n",
       "      <td>02/02/2022 09:42:35 AM</td>\n",
       "      <td>02/02/2022 09:42:35 AM</td>\n",
       "      <td>WEST</td>\n",
       "      <td>KING</td>\n",
       "      <td>K1</td>\n",
       "    </tr>\n",
       "    <tr>\n",
       "      <th>2</th>\n",
       "      <td>4322263</td>\n",
       "      <td>2020000160933</td>\n",
       "      <td>ASSISTANCE RENDERED</td>\n",
       "      <td>911</td>\n",
       "      <td>3</td>\n",
       "      <td>CHILD - ABAND, ABUSED, MOLESTED, NEGLECTED</td>\n",
       "      <td>--DISTURBANCE - OTHER</td>\n",
       "      <td>05/15/2020 11:23:01 PM</td>\n",
       "      <td>05/15/2020 11:33:28 PM</td>\n",
       "      <td>SOUTH</td>\n",
       "      <td>ROBERT</td>\n",
       "      <td>R1</td>\n",
       "    </tr>\n",
       "    <tr>\n",
       "      <th>3</th>\n",
       "      <td>1660533</td>\n",
       "      <td>2021000000962</td>\n",
       "      <td>ASSISTANCE RENDERED</td>\n",
       "      <td>ONVIEW</td>\n",
       "      <td>7</td>\n",
       "      <td>PREMISE CHECK, OFFICER INITIATED ONVIEW ONLY</td>\n",
       "      <td>--PREMISE CHECKS - CRIME PREVENTION</td>\n",
       "      <td>01/02/2021 10:16:02 AM</td>\n",
       "      <td>01/02/2021 10:16:02 AM</td>\n",
       "      <td>WEST</td>\n",
       "      <td>DAVID</td>\n",
       "      <td>D3</td>\n",
       "    </tr>\n",
       "    <tr>\n",
       "      <th>4</th>\n",
       "      <td>717846</td>\n",
       "      <td>2018000405368</td>\n",
       "      <td>DUPLICATED OR CANCELLED BY RADIO</td>\n",
       "      <td>911</td>\n",
       "      <td>1</td>\n",
       "      <td>UNKNOWN - ANI/ALI - LANDLINE (INCLUDES OPEN LINE)</td>\n",
       "      <td>UNKNOWN - ANI/ALI - LANDLINE (INCLUDES OPEN LINE)</td>\n",
       "      <td>10/29/2018 05:54:26 PM</td>\n",
       "      <td>01/01/1900 12:00:00 AM</td>\n",
       "      <td>NORTH</td>\n",
       "      <td>LINCOLN</td>\n",
       "      <td>L2</td>\n",
       "    </tr>\n",
       "    <tr>\n",
       "      <th>5</th>\n",
       "      <td>593820</td>\n",
       "      <td>2021000157964</td>\n",
       "      <td>NO POLICE ACTION POSSIBLE OR NECESSARY</td>\n",
       "      <td>911</td>\n",
       "      <td>2</td>\n",
       "      <td>TRESPASS</td>\n",
       "      <td>--PROWLER - TRESPASS</td>\n",
       "      <td>06/24/2021 11:02:12 PM</td>\n",
       "      <td>01/01/1900 12:00:00 AM</td>\n",
       "      <td>NORTH</td>\n",
       "      <td>LINCOLN</td>\n",
       "      <td>L3</td>\n",
       "    </tr>\n",
       "    <tr>\n",
       "      <th>6</th>\n",
       "      <td>2468962</td>\n",
       "      <td>2019000255821</td>\n",
       "      <td>UNABLE TO LOCATE INCIDENT OR COMPLAINANT</td>\n",
       "      <td>911</td>\n",
       "      <td>3</td>\n",
       "      <td>NUISANCE - MISCHIEF</td>\n",
       "      <td>--MISCHIEF OR NUISANCE - GENERAL</td>\n",
       "      <td>07/12/2019 08:51:59 PM</td>\n",
       "      <td>07/12/2019 09:12:50 PM</td>\n",
       "      <td>SOUTHWEST</td>\n",
       "      <td>FRANK</td>\n",
       "      <td>F1</td>\n",
       "    </tr>\n",
       "    <tr>\n",
       "      <th>7</th>\n",
       "      <td>2651296</td>\n",
       "      <td>2020000063174</td>\n",
       "      <td>ASSISTANCE RENDERED</td>\n",
       "      <td>ONVIEW</td>\n",
       "      <td>9</td>\n",
       "      <td>OFF DUTY EMPLOYMENT</td>\n",
       "      <td>-OFF DUTY EMPLOYMENT</td>\n",
       "      <td>02/19/2020 04:19:09 PM</td>\n",
       "      <td>02/19/2020 04:19:09 PM</td>\n",
       "      <td>WEST</td>\n",
       "      <td>MARY</td>\n",
       "      <td>M1</td>\n",
       "    </tr>\n",
       "    <tr>\n",
       "      <th>8</th>\n",
       "      <td>346189</td>\n",
       "      <td>2019000117647</td>\n",
       "      <td>REPORT WRITTEN (NO ARREST)</td>\n",
       "      <td>TELEPHONE OTHER, NOT 911</td>\n",
       "      <td>3</td>\n",
       "      <td>SUSPICIOUS PERSON, VEHICLE OR INCIDENT</td>\n",
       "      <td>--SUSPICIOUS CIRCUM. - SUSPICIOUS PERSON</td>\n",
       "      <td>04/03/2019 08:19:42 AM</td>\n",
       "      <td>04/03/2019 08:50:03 AM</td>\n",
       "      <td>NORTH</td>\n",
       "      <td>BOY</td>\n",
       "      <td>B2</td>\n",
       "    </tr>\n",
       "    <tr>\n",
       "      <th>9</th>\n",
       "      <td>784470</td>\n",
       "      <td>2017000073616</td>\n",
       "      <td>ASSISTANCE RENDERED</td>\n",
       "      <td>ONVIEW</td>\n",
       "      <td>7</td>\n",
       "      <td>PREMISE CHECK, OFFICER INITIATED ONVIEW ONLY</td>\n",
       "      <td>--PREMISE CHECKS - REQUEST TO WATCH</td>\n",
       "      <td>03/01/2017 04:38:28 AM</td>\n",
       "      <td>03/01/2017 04:38:28 AM</td>\n",
       "      <td>NORTH</td>\n",
       "      <td>LINCOLN</td>\n",
       "      <td>L1</td>\n",
       "    </tr>\n",
       "  </tbody>\n",
       "</table>\n",
       "</div>"
      ],
      "text/plain": [
       "   Unnamed: 0  CAD Event Number               Event Clearance Description  \\\n",
       "0     2255988     2017000106644                   PROBLEM SOLVING PROJECT   \n",
       "1      602424     2022000027644                       ASSISTANCE RENDERED   \n",
       "2     4322263     2020000160933                       ASSISTANCE RENDERED   \n",
       "3     1660533     2021000000962                       ASSISTANCE RENDERED   \n",
       "4      717846     2018000405368          DUPLICATED OR CANCELLED BY RADIO   \n",
       "5      593820     2021000157964    NO POLICE ACTION POSSIBLE OR NECESSARY   \n",
       "6     2468962     2019000255821  UNABLE TO LOCATE INCIDENT OR COMPLAINANT   \n",
       "7     2651296     2020000063174                       ASSISTANCE RENDERED   \n",
       "8      346189     2019000117647                REPORT WRITTEN (NO ARREST)   \n",
       "9      784470     2017000073616                       ASSISTANCE RENDERED   \n",
       "\n",
       "                  Call Type  Priority  \\\n",
       "0                    ONVIEW         4   \n",
       "1                    ONVIEW         9   \n",
       "2                       911         3   \n",
       "3                    ONVIEW         7   \n",
       "4                       911         1   \n",
       "5                       911         2   \n",
       "6                       911         3   \n",
       "7                    ONVIEW         9   \n",
       "8  TELEPHONE OTHER, NOT 911         3   \n",
       "9                    ONVIEW         7   \n",
       "\n",
       "                                   Initial Call Type  \\\n",
       "0                                   REQUEST TO WATCH   \n",
       "1              -ASSIGNED DUTY - DETAIL BY SUPERVISOR   \n",
       "2         CHILD - ABAND, ABUSED, MOLESTED, NEGLECTED   \n",
       "3       PREMISE CHECK, OFFICER INITIATED ONVIEW ONLY   \n",
       "4  UNKNOWN - ANI/ALI - LANDLINE (INCLUDES OPEN LINE)   \n",
       "5                                           TRESPASS   \n",
       "6                                NUISANCE - MISCHIEF   \n",
       "7                                OFF DUTY EMPLOYMENT   \n",
       "8             SUSPICIOUS PERSON, VEHICLE OR INCIDENT   \n",
       "9       PREMISE CHECK, OFFICER INITIATED ONVIEW ONLY   \n",
       "\n",
       "                                     Final Call Type    Original Time Queued  \\\n",
       "0                --PREMISE CHECKS - REQUEST TO WATCH  03/27/2017 05:02:47 AM   \n",
       "1                   --MISCHIEF OR NUISANCE - GENERAL  02/02/2022 09:42:35 AM   \n",
       "2                              --DISTURBANCE - OTHER  05/15/2020 11:23:01 PM   \n",
       "3                --PREMISE CHECKS - CRIME PREVENTION  01/02/2021 10:16:02 AM   \n",
       "4  UNKNOWN - ANI/ALI - LANDLINE (INCLUDES OPEN LINE)  10/29/2018 05:54:26 PM   \n",
       "5                               --PROWLER - TRESPASS  06/24/2021 11:02:12 PM   \n",
       "6                   --MISCHIEF OR NUISANCE - GENERAL  07/12/2019 08:51:59 PM   \n",
       "7                               -OFF DUTY EMPLOYMENT  02/19/2020 04:19:09 PM   \n",
       "8           --SUSPICIOUS CIRCUM. - SUSPICIOUS PERSON  04/03/2019 08:19:42 AM   \n",
       "9                --PREMISE CHECKS - REQUEST TO WATCH  03/01/2017 04:38:28 AM   \n",
       "\n",
       "             Arrived Time   Precinct   Sector Beat  \n",
       "0  03/27/2017 05:02:47 AM      SOUTH    OCEAN   O3  \n",
       "1  02/02/2022 09:42:35 AM       WEST     KING   K1  \n",
       "2  05/15/2020 11:33:28 PM      SOUTH   ROBERT   R1  \n",
       "3  01/02/2021 10:16:02 AM       WEST    DAVID   D3  \n",
       "4  01/01/1900 12:00:00 AM      NORTH  LINCOLN   L2  \n",
       "5  01/01/1900 12:00:00 AM      NORTH  LINCOLN   L3  \n",
       "6  07/12/2019 09:12:50 PM  SOUTHWEST    FRANK   F1  \n",
       "7  02/19/2020 04:19:09 PM       WEST     MARY   M1  \n",
       "8  04/03/2019 08:50:03 AM      NORTH      BOY   B2  \n",
       "9  03/01/2017 04:38:28 AM      NORTH  LINCOLN   L1  "
      ]
     },
     "execution_count": 10,
     "metadata": {},
     "output_type": "execute_result"
    }
   ],
   "source": [
    "# What do the first few rows look like?\n",
    "df.head(10)"
   ]
  },
  {
   "cell_type": "code",
   "execution_count": 11,
   "id": "6af7ce11",
   "metadata": {},
   "outputs": [
    {
     "data": {
      "text/plain": [
       "Unnamed: 0                      int64\n",
       "CAD Event Number                int64\n",
       "Event Clearance Description    object\n",
       "Call Type                      object\n",
       "Priority                        int64\n",
       "Initial Call Type              object\n",
       "Final Call Type                object\n",
       "Original Time Queued           object\n",
       "Arrived Time                   object\n",
       "Precinct                       object\n",
       "Sector                         object\n",
       "Beat                           object\n",
       "dtype: object"
      ]
     },
     "execution_count": 11,
     "metadata": {},
     "output_type": "execute_result"
    }
   ],
   "source": [
    "# Data Types\n",
    "df.dtypes"
   ]
  },
  {
   "cell_type": "code",
   "execution_count": 12,
   "id": "d7a8decd",
   "metadata": {},
   "outputs": [
    {
     "data": {
      "text/plain": [
       "Unnamed: 0                      0\n",
       "CAD Event Number                0\n",
       "Event Clearance Description     0\n",
       "Call Type                       0\n",
       "Priority                        0\n",
       "Initial Call Type               0\n",
       "Final Call Type                 0\n",
       "Original Time Queued            0\n",
       "Arrived Time                    0\n",
       "Precinct                        0\n",
       "Sector                         95\n",
       "Beat                            0\n",
       "dtype: int64"
      ]
     },
     "execution_count": 12,
     "metadata": {},
     "output_type": "execute_result"
    }
   ],
   "source": [
    "# Missing Data\n",
    "df.isnull().sum()"
   ]
  },
  {
   "cell_type": "code",
   "execution_count": 6,
   "id": "0ec3e801",
   "metadata": {},
   "outputs": [
    {
     "name": "stdout",
     "output_type": "stream",
     "text": [
      "Event Clearance Description    [ASSISTANCE RENDERED, REPORT WRITTEN (NO ARRES...\n",
      "Call Type                      [ONVIEW, 911, TELEPHONE OTHER, NOT 911, ALARM ...\n",
      "Priority                                            [3, 2, 7, 1, 9, 4, 5, 6, -1]\n",
      "Initial Call Type              [PREMISE CHECK, OFFICER INITIATED ONVIEW ONLY,...\n",
      "Final Call Type                [--SUSPICIOUS CIRCUM. - SUSPICIOUS PERSON, --P...\n",
      "Original Time Queued           [03/27/2017 05:02:47 AM, 05/18/2016 06:04:43 P...\n",
      "Arrived Time                   [01/01/1900 12:00:00 AM, 03/27/2017 05:02:47 A...\n",
      "Precinct                          [WEST, NORTH, SOUTH, EAST, SOUTHWEST, UNKNOWN]\n",
      "Sector                         [KING, MARY, EDWARD, DAVID, UNION, SAM, NORA, ...\n",
      "Beat                           [K3, M3, E2, D2, N3, M1, K2, M2, D1, K1, Q3, U...\n",
      "dtype: object\n"
     ]
    }
   ],
   "source": [
    "# Unique Values\n",
    "# See blog_post_functions for more information on vals_by_col\n",
    "col_uniques = vals_by_col(df, df.columns[2:])\n",
    "print(col_uniques)"
   ]
  },
  {
   "cell_type": "code",
   "execution_count": 8,
   "id": "0c2ae8ca",
   "metadata": {},
   "outputs": [
    {
     "data": {
      "text/plain": [
       "[25, 7, 9, 219, 245, 10000, 9291, 6, 17, 72]"
      ]
     },
     "execution_count": 8,
     "metadata": {},
     "output_type": "execute_result"
    }
   ],
   "source": [
    "# How many uniques are there?\n",
    "[len(uniques) for uniques in col_uniques]"
   ]
  },
  {
   "cell_type": "code",
   "execution_count": 10,
   "id": "6395fee4",
   "metadata": {},
   "outputs": [
    {
     "name": "stdout",
     "output_type": "stream",
     "text": [
      "['Event Clearance Description']\n"
     ]
    }
   ],
   "source": [
    "# Potentially hidden Missing Data: \"-\"\n",
    "\"\"\"\n",
    "Hard to tell from the view above, but further examination revealed that there was another type of missing data point,\n",
    "which presented itself as a dash, \"-\"\n",
    "\"\"\"\n",
    "marked_null = []\n",
    "for col_num, col in enumerate(col_uniques):\n",
    "    if '-' in col:\n",
    "        marked_null.append(col_uniques.index[col_num])\n",
    "print(marked_null)"
   ]
  },
  {
   "cell_type": "code",
   "execution_count": 12,
   "id": "60b09c46",
   "metadata": {},
   "outputs": [
    {
     "data": {
      "text/plain": [
       "ASSISTANCE RENDERED                                                    4348\n",
       "REPORT WRITTEN (NO ARREST)                                             2016\n",
       "UNABLE TO LOCATE INCIDENT OR COMPLAINANT                                693\n",
       "CITATION ISSUED (CRIMINAL OR NON-CRIMINAL)                              490\n",
       "ORAL WARNING GIVEN                                                      454\n",
       "PHYSICAL ARREST MADE                                                    314\n",
       "NO POLICE ACTION POSSIBLE OR NECESSARY                                  270\n",
       "PROBLEM SOLVING PROJECT                                                 264\n",
       "FALSE COMPLAINT/UNFOUNDED                                               264\n",
       "OTHER REPORT MADE                                                       259\n",
       "FOLLOW-UP REPORT MADE                                                   161\n",
       "RESPONDING UNIT(S) CANCELLED BY RADIO                                   141\n",
       "DUPLICATED OR CANCELLED BY RADIO                                         74\n",
       "-                                                                        63\n",
       "STREET CHECK WRITTEN                                                     49\n",
       "INCIDENT LOCATED, PUBLIC ORDER RESTORED                                  37\n",
       "TRANSPORTATION OR ESCORT PROVIDED                                        31\n",
       "RADIO BROADCAST AND CLEAR                                                27\n",
       "Citations – Criminal Citation Issued (new incident number required)      17\n",
       "Evidence Submitted (new incident number required)                        11\n",
       "NON-CRIMINAL REFERRAL                                                     6\n",
       "PRIORITY CALL HANDLING                                                    4\n",
       "SERVICE OF DVPA ORDER                                                     3\n",
       "EXTRA UNIT                                                                2\n",
       "NO SUCH ADDRESS OR LOCATION                                               2\n",
       "Name: Event Clearance Description, dtype: int64"
      ]
     },
     "execution_count": 12,
     "metadata": {},
     "output_type": "execute_result"
    }
   ],
   "source": [
    "df['Event Clearance Description'].value_counts()"
   ]
  },
  {
   "cell_type": "code",
   "execution_count": 13,
   "id": "e97a6342",
   "metadata": {},
   "outputs": [
    {
     "data": {
      "text/plain": [
       "63"
      ]
     },
     "execution_count": 13,
     "metadata": {},
     "output_type": "execute_result"
    }
   ],
   "source": [
    "df['Event Clearance Description'].value_counts().loc['-']"
   ]
  },
  {
   "cell_type": "code",
   "execution_count": 17,
   "id": "c89ab206",
   "metadata": {},
   "outputs": [],
   "source": [
    "# Remove nulls and blanks in data\n",
    "df.dropna(axis = 0, inplace = True)\n",
    "df.drop(df[df['Event Clearance Description'] == '-'].index, inplace = True)"
   ]
  },
  {
   "cell_type": "code",
   "execution_count": 19,
   "id": "e85fcbd7",
   "metadata": {},
   "outputs": [
    {
     "data": {
      "text/plain": [
       "(9843, 10)"
      ]
     },
     "execution_count": 19,
     "metadata": {},
     "output_type": "execute_result"
    }
   ],
   "source": [
    "# Additionally, the first two columns are essentially covered by index, we'll remove those\n",
    "df = df.drop(['Unnamed: 0', 'CAD Event Number'], axis=1)\n",
    "df.shape"
   ]
  },
  {
   "cell_type": "code",
   "execution_count": 22,
   "id": "2208e724",
   "metadata": {},
   "outputs": [
    {
     "data": {
      "text/plain": [
       "0.015700000000000047"
      ]
     },
     "execution_count": 22,
     "metadata": {},
     "output_type": "execute_result"
    }
   ],
   "source": [
    "1 - (df.shape[0] / 10000)"
   ]
  },
  {
   "cell_type": "markdown",
   "id": "9ce53759",
   "metadata": {},
   "source": [
    "## Initialization Thought Process and Notes\n",
    "1. The data is relatively complete. The nulls and blank values only represented about 1.6% of the rows.\n",
    "2. The time columns, queue time and arrive time, consisted almost entirely of unique values. It would be beneficial to address this by breaking apart the date and time values into individual components. Not only would this be useful for a successful model build, but also for gaining a better understanding of the data.\n",
    "3. The data consisted mostly of object type data. After removing the first two columns, there was only one non-object type data column remaining, \"Priority\". With how many uniques some of the non-time columns had, this could result in some heavy categorical encoding."
   ]
  },
  {
   "cell_type": "markdown",
   "id": "3143301b",
   "metadata": {},
   "source": [
    "## Potential Questions\n",
    "1. What time of the year / week / day do the majority of the calls come in?\n",
    "2. Do amount of calls / priority of calls change by precint, sector or beat?\n",
    "3. What determines priority?\n",
    "\n",
    "After performing some research on Computer-Aided-Dispatch systems (CAD), it appears the system itself assigns a Priority rating. Unfortunately, we're missing some of the datapoints actually used in assigning the Priority rating. However, let's see how closely we can build a model that will predict Priority ratings.\n",
    "\n",
    "4. Can we buld a model to accurately predict Priority ratings?"
   ]
  },
  {
   "cell_type": "markdown",
   "id": "105d980a",
   "metadata": {},
   "source": [
    "## Potential Question 1\n",
    "What time of the year / week / day do the majority of the calls come in?"
   ]
  },
  {
   "cell_type": "code",
   "execution_count": 23,
   "id": "de10e85b",
   "metadata": {},
   "outputs": [],
   "source": [
    "# Building off the additional thoughts section, now would be a good time to deal with the time dilemma\n",
    "\n",
    "# Substitute in more manageable column names\n",
    "df = df.rename({'Original Time Queued': 'queue_time',\n",
    "                              'Arrived Time': 'arrive_time'}, axis = 'columns')\n",
    "\n",
    "# Split the time columns into separate columns for each component (month, day, year, hour, minute, second)\n",
    "# \n",
    "df = date_to_col(df, 'queue_time')\n",
    "df = date_to_col(df, 'arrive_time')"
   ]
  },
  {
   "cell_type": "code",
   "execution_count": 24,
   "id": "b592410f",
   "metadata": {},
   "outputs": [
    {
     "data": {
      "text/html": [
       "<div>\n",
       "<style scoped>\n",
       "    .dataframe tbody tr th:only-of-type {\n",
       "        vertical-align: middle;\n",
       "    }\n",
       "\n",
       "    .dataframe tbody tr th {\n",
       "        vertical-align: top;\n",
       "    }\n",
       "\n",
       "    .dataframe thead th {\n",
       "        text-align: right;\n",
       "    }\n",
       "</style>\n",
       "<table border=\"1\" class=\"dataframe\">\n",
       "  <thead>\n",
       "    <tr style=\"text-align: right;\">\n",
       "      <th></th>\n",
       "      <th>Event Clearance Description</th>\n",
       "      <th>Call Type</th>\n",
       "      <th>Priority</th>\n",
       "      <th>Initial Call Type</th>\n",
       "      <th>Final Call Type</th>\n",
       "      <th>Precinct</th>\n",
       "      <th>Sector</th>\n",
       "      <th>Beat</th>\n",
       "      <th>queue_time_month</th>\n",
       "      <th>queue_time_day</th>\n",
       "      <th>queue_time_year</th>\n",
       "      <th>queue_time_hour</th>\n",
       "      <th>queue_time_minute</th>\n",
       "      <th>queue_time_second</th>\n",
       "      <th>arrive_time_month</th>\n",
       "      <th>arrive_time_day</th>\n",
       "      <th>arrive_time_year</th>\n",
       "      <th>arrive_time_hour</th>\n",
       "      <th>arrive_time_minute</th>\n",
       "      <th>arrive_time_second</th>\n",
       "    </tr>\n",
       "  </thead>\n",
       "  <tbody>\n",
       "    <tr>\n",
       "      <th>0</th>\n",
       "      <td>PROBLEM SOLVING PROJECT</td>\n",
       "      <td>ONVIEW</td>\n",
       "      <td>4</td>\n",
       "      <td>REQUEST TO WATCH</td>\n",
       "      <td>--PREMISE CHECKS - REQUEST TO WATCH</td>\n",
       "      <td>SOUTH</td>\n",
       "      <td>OCEAN</td>\n",
       "      <td>O3</td>\n",
       "      <td>3</td>\n",
       "      <td>27</td>\n",
       "      <td>2017</td>\n",
       "      <td>5</td>\n",
       "      <td>2</td>\n",
       "      <td>47</td>\n",
       "      <td>3</td>\n",
       "      <td>27</td>\n",
       "      <td>2017</td>\n",
       "      <td>5</td>\n",
       "      <td>2</td>\n",
       "      <td>47</td>\n",
       "    </tr>\n",
       "    <tr>\n",
       "      <th>1</th>\n",
       "      <td>ASSISTANCE RENDERED</td>\n",
       "      <td>ONVIEW</td>\n",
       "      <td>9</td>\n",
       "      <td>-ASSIGNED DUTY - DETAIL BY SUPERVISOR</td>\n",
       "      <td>--MISCHIEF OR NUISANCE - GENERAL</td>\n",
       "      <td>WEST</td>\n",
       "      <td>KING</td>\n",
       "      <td>K1</td>\n",
       "      <td>2</td>\n",
       "      <td>2</td>\n",
       "      <td>2022</td>\n",
       "      <td>9</td>\n",
       "      <td>42</td>\n",
       "      <td>35</td>\n",
       "      <td>2</td>\n",
       "      <td>2</td>\n",
       "      <td>2022</td>\n",
       "      <td>9</td>\n",
       "      <td>42</td>\n",
       "      <td>35</td>\n",
       "    </tr>\n",
       "    <tr>\n",
       "      <th>2</th>\n",
       "      <td>ASSISTANCE RENDERED</td>\n",
       "      <td>911</td>\n",
       "      <td>3</td>\n",
       "      <td>CHILD - ABAND, ABUSED, MOLESTED, NEGLECTED</td>\n",
       "      <td>--DISTURBANCE - OTHER</td>\n",
       "      <td>SOUTH</td>\n",
       "      <td>ROBERT</td>\n",
       "      <td>R1</td>\n",
       "      <td>5</td>\n",
       "      <td>15</td>\n",
       "      <td>2020</td>\n",
       "      <td>23</td>\n",
       "      <td>23</td>\n",
       "      <td>1</td>\n",
       "      <td>5</td>\n",
       "      <td>15</td>\n",
       "      <td>2020</td>\n",
       "      <td>23</td>\n",
       "      <td>33</td>\n",
       "      <td>28</td>\n",
       "    </tr>\n",
       "    <tr>\n",
       "      <th>3</th>\n",
       "      <td>ASSISTANCE RENDERED</td>\n",
       "      <td>ONVIEW</td>\n",
       "      <td>7</td>\n",
       "      <td>PREMISE CHECK, OFFICER INITIATED ONVIEW ONLY</td>\n",
       "      <td>--PREMISE CHECKS - CRIME PREVENTION</td>\n",
       "      <td>WEST</td>\n",
       "      <td>DAVID</td>\n",
       "      <td>D3</td>\n",
       "      <td>1</td>\n",
       "      <td>2</td>\n",
       "      <td>2021</td>\n",
       "      <td>10</td>\n",
       "      <td>16</td>\n",
       "      <td>2</td>\n",
       "      <td>1</td>\n",
       "      <td>2</td>\n",
       "      <td>2021</td>\n",
       "      <td>10</td>\n",
       "      <td>16</td>\n",
       "      <td>2</td>\n",
       "    </tr>\n",
       "    <tr>\n",
       "      <th>4</th>\n",
       "      <td>DUPLICATED OR CANCELLED BY RADIO</td>\n",
       "      <td>911</td>\n",
       "      <td>1</td>\n",
       "      <td>UNKNOWN - ANI/ALI - LANDLINE (INCLUDES OPEN LINE)</td>\n",
       "      <td>UNKNOWN - ANI/ALI - LANDLINE (INCLUDES OPEN LINE)</td>\n",
       "      <td>NORTH</td>\n",
       "      <td>LINCOLN</td>\n",
       "      <td>L2</td>\n",
       "      <td>10</td>\n",
       "      <td>29</td>\n",
       "      <td>2018</td>\n",
       "      <td>17</td>\n",
       "      <td>54</td>\n",
       "      <td>26</td>\n",
       "      <td>1</td>\n",
       "      <td>1</td>\n",
       "      <td>1900</td>\n",
       "      <td>12</td>\n",
       "      <td>0</td>\n",
       "      <td>0</td>\n",
       "    </tr>\n",
       "    <tr>\n",
       "      <th>5</th>\n",
       "      <td>NO POLICE ACTION POSSIBLE OR NECESSARY</td>\n",
       "      <td>911</td>\n",
       "      <td>2</td>\n",
       "      <td>TRESPASS</td>\n",
       "      <td>--PROWLER - TRESPASS</td>\n",
       "      <td>NORTH</td>\n",
       "      <td>LINCOLN</td>\n",
       "      <td>L3</td>\n",
       "      <td>6</td>\n",
       "      <td>24</td>\n",
       "      <td>2021</td>\n",
       "      <td>23</td>\n",
       "      <td>2</td>\n",
       "      <td>12</td>\n",
       "      <td>1</td>\n",
       "      <td>1</td>\n",
       "      <td>1900</td>\n",
       "      <td>12</td>\n",
       "      <td>0</td>\n",
       "      <td>0</td>\n",
       "    </tr>\n",
       "    <tr>\n",
       "      <th>6</th>\n",
       "      <td>UNABLE TO LOCATE INCIDENT OR COMPLAINANT</td>\n",
       "      <td>911</td>\n",
       "      <td>3</td>\n",
       "      <td>NUISANCE - MISCHIEF</td>\n",
       "      <td>--MISCHIEF OR NUISANCE - GENERAL</td>\n",
       "      <td>SOUTHWEST</td>\n",
       "      <td>FRANK</td>\n",
       "      <td>F1</td>\n",
       "      <td>7</td>\n",
       "      <td>12</td>\n",
       "      <td>2019</td>\n",
       "      <td>20</td>\n",
       "      <td>51</td>\n",
       "      <td>59</td>\n",
       "      <td>7</td>\n",
       "      <td>12</td>\n",
       "      <td>2019</td>\n",
       "      <td>21</td>\n",
       "      <td>12</td>\n",
       "      <td>50</td>\n",
       "    </tr>\n",
       "    <tr>\n",
       "      <th>7</th>\n",
       "      <td>ASSISTANCE RENDERED</td>\n",
       "      <td>ONVIEW</td>\n",
       "      <td>9</td>\n",
       "      <td>OFF DUTY EMPLOYMENT</td>\n",
       "      <td>-OFF DUTY EMPLOYMENT</td>\n",
       "      <td>WEST</td>\n",
       "      <td>MARY</td>\n",
       "      <td>M1</td>\n",
       "      <td>2</td>\n",
       "      <td>19</td>\n",
       "      <td>2020</td>\n",
       "      <td>16</td>\n",
       "      <td>19</td>\n",
       "      <td>9</td>\n",
       "      <td>2</td>\n",
       "      <td>19</td>\n",
       "      <td>2020</td>\n",
       "      <td>16</td>\n",
       "      <td>19</td>\n",
       "      <td>9</td>\n",
       "    </tr>\n",
       "    <tr>\n",
       "      <th>8</th>\n",
       "      <td>REPORT WRITTEN (NO ARREST)</td>\n",
       "      <td>TELEPHONE OTHER, NOT 911</td>\n",
       "      <td>3</td>\n",
       "      <td>SUSPICIOUS PERSON, VEHICLE OR INCIDENT</td>\n",
       "      <td>--SUSPICIOUS CIRCUM. - SUSPICIOUS PERSON</td>\n",
       "      <td>NORTH</td>\n",
       "      <td>BOY</td>\n",
       "      <td>B2</td>\n",
       "      <td>4</td>\n",
       "      <td>3</td>\n",
       "      <td>2019</td>\n",
       "      <td>8</td>\n",
       "      <td>19</td>\n",
       "      <td>42</td>\n",
       "      <td>4</td>\n",
       "      <td>3</td>\n",
       "      <td>2019</td>\n",
       "      <td>8</td>\n",
       "      <td>50</td>\n",
       "      <td>3</td>\n",
       "    </tr>\n",
       "    <tr>\n",
       "      <th>9</th>\n",
       "      <td>ASSISTANCE RENDERED</td>\n",
       "      <td>ONVIEW</td>\n",
       "      <td>7</td>\n",
       "      <td>PREMISE CHECK, OFFICER INITIATED ONVIEW ONLY</td>\n",
       "      <td>--PREMISE CHECKS - REQUEST TO WATCH</td>\n",
       "      <td>NORTH</td>\n",
       "      <td>LINCOLN</td>\n",
       "      <td>L1</td>\n",
       "      <td>3</td>\n",
       "      <td>1</td>\n",
       "      <td>2017</td>\n",
       "      <td>4</td>\n",
       "      <td>38</td>\n",
       "      <td>28</td>\n",
       "      <td>3</td>\n",
       "      <td>1</td>\n",
       "      <td>2017</td>\n",
       "      <td>4</td>\n",
       "      <td>38</td>\n",
       "      <td>28</td>\n",
       "    </tr>\n",
       "  </tbody>\n",
       "</table>\n",
       "</div>"
      ],
      "text/plain": [
       "                Event Clearance Description                 Call Type  \\\n",
       "0                   PROBLEM SOLVING PROJECT                    ONVIEW   \n",
       "1                       ASSISTANCE RENDERED                    ONVIEW   \n",
       "2                       ASSISTANCE RENDERED                       911   \n",
       "3                       ASSISTANCE RENDERED                    ONVIEW   \n",
       "4          DUPLICATED OR CANCELLED BY RADIO                       911   \n",
       "5    NO POLICE ACTION POSSIBLE OR NECESSARY                       911   \n",
       "6  UNABLE TO LOCATE INCIDENT OR COMPLAINANT                       911   \n",
       "7                       ASSISTANCE RENDERED                    ONVIEW   \n",
       "8                REPORT WRITTEN (NO ARREST)  TELEPHONE OTHER, NOT 911   \n",
       "9                       ASSISTANCE RENDERED                    ONVIEW   \n",
       "\n",
       "   Priority                                  Initial Call Type  \\\n",
       "0         4                                   REQUEST TO WATCH   \n",
       "1         9              -ASSIGNED DUTY - DETAIL BY SUPERVISOR   \n",
       "2         3         CHILD - ABAND, ABUSED, MOLESTED, NEGLECTED   \n",
       "3         7       PREMISE CHECK, OFFICER INITIATED ONVIEW ONLY   \n",
       "4         1  UNKNOWN - ANI/ALI - LANDLINE (INCLUDES OPEN LINE)   \n",
       "5         2                                           TRESPASS   \n",
       "6         3                                NUISANCE - MISCHIEF   \n",
       "7         9                                OFF DUTY EMPLOYMENT   \n",
       "8         3             SUSPICIOUS PERSON, VEHICLE OR INCIDENT   \n",
       "9         7       PREMISE CHECK, OFFICER INITIATED ONVIEW ONLY   \n",
       "\n",
       "                                     Final Call Type   Precinct   Sector Beat  \\\n",
       "0                --PREMISE CHECKS - REQUEST TO WATCH      SOUTH    OCEAN   O3   \n",
       "1                   --MISCHIEF OR NUISANCE - GENERAL       WEST     KING   K1   \n",
       "2                              --DISTURBANCE - OTHER      SOUTH   ROBERT   R1   \n",
       "3                --PREMISE CHECKS - CRIME PREVENTION       WEST    DAVID   D3   \n",
       "4  UNKNOWN - ANI/ALI - LANDLINE (INCLUDES OPEN LINE)      NORTH  LINCOLN   L2   \n",
       "5                               --PROWLER - TRESPASS      NORTH  LINCOLN   L3   \n",
       "6                   --MISCHIEF OR NUISANCE - GENERAL  SOUTHWEST    FRANK   F1   \n",
       "7                               -OFF DUTY EMPLOYMENT       WEST     MARY   M1   \n",
       "8           --SUSPICIOUS CIRCUM. - SUSPICIOUS PERSON      NORTH      BOY   B2   \n",
       "9                --PREMISE CHECKS - REQUEST TO WATCH      NORTH  LINCOLN   L1   \n",
       "\n",
       "   queue_time_month  queue_time_day  queue_time_year  queue_time_hour  \\\n",
       "0                 3              27             2017                5   \n",
       "1                 2               2             2022                9   \n",
       "2                 5              15             2020               23   \n",
       "3                 1               2             2021               10   \n",
       "4                10              29             2018               17   \n",
       "5                 6              24             2021               23   \n",
       "6                 7              12             2019               20   \n",
       "7                 2              19             2020               16   \n",
       "8                 4               3             2019                8   \n",
       "9                 3               1             2017                4   \n",
       "\n",
       "   queue_time_minute  queue_time_second  arrive_time_month  arrive_time_day  \\\n",
       "0                  2                 47                  3               27   \n",
       "1                 42                 35                  2                2   \n",
       "2                 23                  1                  5               15   \n",
       "3                 16                  2                  1                2   \n",
       "4                 54                 26                  1                1   \n",
       "5                  2                 12                  1                1   \n",
       "6                 51                 59                  7               12   \n",
       "7                 19                  9                  2               19   \n",
       "8                 19                 42                  4                3   \n",
       "9                 38                 28                  3                1   \n",
       "\n",
       "   arrive_time_year  arrive_time_hour  arrive_time_minute  arrive_time_second  \n",
       "0              2017                 5                   2                  47  \n",
       "1              2022                 9                  42                  35  \n",
       "2              2020                23                  33                  28  \n",
       "3              2021                10                  16                   2  \n",
       "4              1900                12                   0                   0  \n",
       "5              1900                12                   0                   0  \n",
       "6              2019                21                  12                  50  \n",
       "7              2020                16                  19                   9  \n",
       "8              2019                 8                  50                   3  \n",
       "9              2017                 4                  38                  28  "
      ]
     },
     "execution_count": 24,
     "metadata": {},
     "output_type": "execute_result"
    }
   ],
   "source": [
    "# Let's see what that accomplished\n",
    "df.head(10)"
   ]
  },
  {
   "cell_type": "code",
   "execution_count": 29,
   "id": "838b4d13",
   "metadata": {},
   "outputs": [
    {
     "data": {
      "text/plain": [
       "<AxesSubplot:xlabel='queue_time_hour', ylabel='count'>"
      ]
     },
     "execution_count": 29,
     "metadata": {},
     "output_type": "execute_result"
    },
    {
     "data": {
      "image/png": "[encoded data removed]",
      "text/plain": [
       "<Figure size 640x480 with 1 Axes>"
      ]
     },
     "metadata": {},
     "output_type": "display_data"
    }
   ],
   "source": [
    "# time of the day for calls\n",
    "base_color = sb.color_palette()[0]\n",
    "time_of_day = df['queue_time_hour'].value_counts()\n",
    "sb.countplot(data = df, x = 'queue_time_hour', color = base_color)"
   ]
  },
  {
   "cell_type": "code",
   "execution_count": 30,
   "id": "9857933b",
   "metadata": {},
   "outputs": [
    {
     "data": {
      "text/plain": [
       "<AxesSubplot:xlabel='queue_time_hour', ylabel='count'>"
      ]
     },
     "execution_count": 30,
     "metadata": {},
     "output_type": "execute_result"
    },
    {
     "data": {
      "image/png": "[encoded data removed]",
      "text/plain": [
       "<Figure size 640x480 with 1 Axes>"
      ]
     },
     "metadata": {},
     "output_type": "display_data"
    }
   ],
   "source": [
    "sb.countplot(data = df, x = 'queue_time_hour', color = base_color,\n",
    "             order = time_of_day.index)"
   ]
  },
  {
   "cell_type": "code",
   "execution_count": null,
   "id": "44020d44",
   "metadata": {},
   "outputs": [],
   "source": [
    "\"\"\"\n",
    "The majority of the calls were queued, almost evenly, at midnight and at 1pm.\n",
    "In other words, somewhat into the nightlife scene and then right after lunch.\n",
    "We should explore what the top call categories were for these times.\n",
    "\"\"\""
   ]
  },
  {
   "cell_type": "code",
   "execution_count": 32,
   "id": "eeb73575",
   "metadata": {},
   "outputs": [
    {
     "data": {
      "text/plain": [
       "<AxesSubplot:xlabel='queue_time_day', ylabel='count'>"
      ]
     },
     "execution_count": 32,
     "metadata": {},
     "output_type": "execute_result"
    },
    {
     "data": {
      "image/png": "[encoded data removed]",
      "text/plain": [
       "<Figure size 640x480 with 1 Axes>"
      ]
     },
     "metadata": {},
     "output_type": "display_data"
    }
   ],
   "source": [
    "# day of the months for calls (note that probably remove due to inconsistency of days per month)\n",
    "time_of_month = df['queue_time_day'].value_counts()\n",
    "sb.countplot(data = df, x = 'queue_time_day', color = base_color)"
   ]
  },
  {
   "cell_type": "code",
   "execution_count": 33,
   "id": "29c8804b",
   "metadata": {},
   "outputs": [
    {
     "data": {
      "text/plain": [
       "<AxesSubplot:xlabel='queue_time_day', ylabel='count'>"
      ]
     },
     "execution_count": 33,
     "metadata": {},
     "output_type": "execute_result"
    },
    {
     "data": {
      "image/png": "[encoded data removed]",
      "text/plain": [
       "<Figure size 640x480 with 1 Axes>"
      ]
     },
     "metadata": {},
     "output_type": "display_data"
    }
   ],
   "source": [
    "sb.countplot(data = df, x = 'queue_time_day', color = base_color,\n",
    "             order = time_of_month.index)"
   ]
  },
  {
   "cell_type": "code",
   "execution_count": null,
   "id": "d171a4af",
   "metadata": {},
   "outputs": [],
   "source": [
    "\"\"\"\n",
    "There is some volatility, but it is difficult to draw any conclusions.\n",
    "It's also logical that the 31st day has the lowest count, given that not every month has 31 days.\n",
    "Something to potentially come back to would be to use the month/day/year to find days of the week.\n",
    "I wonder how a Friday would compare to a Wednesday?\n",
    "\"\"\""
   ]
  },
  {
   "cell_type": "code",
   "execution_count": 34,
   "id": "a5aa6f04",
   "metadata": {},
   "outputs": [
    {
     "data": {
      "text/plain": [
       "<AxesSubplot:xlabel='queue_time_month', ylabel='count'>"
      ]
     },
     "execution_count": 34,
     "metadata": {},
     "output_type": "execute_result"
    },
    {
     "data": {
      "image/png": "[encoded data removed]",
      "text/plain": [
       "<Figure size 640x480 with 1 Axes>"
      ]
     },
     "metadata": {},
     "output_type": "display_data"
    }
   ],
   "source": [
    "# month of the year\n",
    "time_of_year = df['queue_time_month'].value_counts()\n",
    "sb.countplot(data = df, x = 'queue_time_month', color = base_color)"
   ]
  },
  {
   "cell_type": "code",
   "execution_count": 36,
   "id": "95930022",
   "metadata": {},
   "outputs": [
    {
     "data": {
      "text/plain": [
       "<AxesSubplot:xlabel='queue_time_month', ylabel='count'>"
      ]
     },
     "execution_count": 36,
     "metadata": {},
     "output_type": "execute_result"
    },
    {
     "data": {
      "image/png": "[encoded data removed]",
      "text/plain": [
       "<Figure size 640x480 with 1 Axes>"
      ]
     },
     "metadata": {},
     "output_type": "display_data"
    }
   ],
   "source": [
    "sb.countplot(data = df, x = 'queue_time_month', color = base_color,\n",
    "             order = time_of_year.index)"
   ]
  },
  {
   "cell_type": "code",
   "execution_count": null,
   "id": "250fa8ce",
   "metadata": {},
   "outputs": [],
   "source": [
    "\"\"\"\n",
    "July especially, but then followed by the other summer months of August and June.\n",
    "Nicer weather, children aren't in school, possibly more tourists?\n",
    "There are several potential avenues to explore.\n",
    "\"\"\""
   ]
  },
  {
   "cell_type": "code",
   "execution_count": 37,
   "id": "eccf6586",
   "metadata": {},
   "outputs": [
    {
     "data": {
      "text/plain": [
       "<AxesSubplot:xlabel='queue_time_year', ylabel='count'>"
      ]
     },
     "execution_count": 37,
     "metadata": {},
     "output_type": "execute_result"
    },
    {
     "data": {
      "image/png": "[encoded data removed]",
      "text/plain": [
       "<Figure size 640x480 with 1 Axes>"
      ]
     },
     "metadata": {},
     "output_type": "display_data"
    }
   ],
   "source": [
    "# call rate over the years\n",
    "call_year = df['queue_time_year'].value_counts()\n",
    "sb.countplot(data = df, x = 'queue_time_year', color = base_color)"
   ]
  },
  {
   "cell_type": "code",
   "execution_count": 38,
   "id": "d5339454",
   "metadata": {},
   "outputs": [
    {
     "data": {
      "text/plain": [
       "<AxesSubplot:xlabel='queue_time_year', ylabel='count'>"
      ]
     },
     "execution_count": 38,
     "metadata": {},
     "output_type": "execute_result"
    },
    {
     "data": {
      "image/png": "[encoded data removed]",
      "text/plain": [
       "<Figure size 640x480 with 1 Axes>"
      ]
     },
     "metadata": {},
     "output_type": "display_data"
    }
   ],
   "source": [
    "sb.countplot(data = df, x = 'queue_time_year', color = base_color,\n",
    "             order = call_year.index)"
   ]
  },
  {
   "cell_type": "code",
   "execution_count": null,
   "id": "4de3e904",
   "metadata": {},
   "outputs": [],
   "source": [
    "\"\"\"\n",
    "Unless we were performing a historical analysis, and trying to predict what points would have been previously,\n",
    "it wouldn't be logical to retain year for building the predictive model as it will either be constant or not in\n",
    "the data.\n",
    "\n",
    "We could use the dates to explore or remove possible outlier dates such as sporting events, protests, etc.\n",
    "\n",
    "TLDR; not very useful for multiple reasons.\n",
    "\"\"\""
   ]
  },
  {
   "cell_type": "markdown",
   "id": "0ba03928",
   "metadata": {},
   "source": [
    "## Question 1 Thought Process and Notes\n",
    "1. Time of the day has potential to be a driver. We should explore what the top call categories were for midnight and 1pm.\n",
    "2. Month of the year has potential to be a driver. However, this would be far more interesting if paired with another database, such as tourists and weather.\n",
    "3. Day of the month didn't provide too much insight. However, maybe paired with month of the year, we could see a pattern given certain special days such as July 4th, New Years Eve, etc.\n",
    "4. Year was somewhat arbitrary, as a predictive model is at some point going to contain a year not even in the training data. One thing to note would be explore outliers such as historical events.\n",
    "\n",
    "Before moving on to the next question, we'll explore the top call categories for midnight and 1pm."
   ]
  },
  {
   "cell_type": "code",
   "execution_count": 61,
   "id": "875f78c4",
   "metadata": {},
   "outputs": [],
   "source": [
    "# See blog_post_functions for more information on vals_by_col\n",
    "# Make a DataFrame which counts the number of times each unique call type appears for each hour\n",
    "time_and_call = secondary_unique(df, 'queue_time_hour', 'Initial Call Type', 'yes')"
   ]
  },
  {
   "cell_type": "code",
   "execution_count": 42,
   "id": "c5ec0288",
   "metadata": {},
   "outputs": [
    {
     "data": {
      "text/html": [
       "<div>\n",
       "<style scoped>\n",
       "    .dataframe tbody tr th:only-of-type {\n",
       "        vertical-align: middle;\n",
       "    }\n",
       "\n",
       "    .dataframe tbody tr th {\n",
       "        vertical-align: top;\n",
       "    }\n",
       "\n",
       "    .dataframe thead th {\n",
       "        text-align: right;\n",
       "    }\n",
       "</style>\n",
       "<table border=\"1\" class=\"dataframe\">\n",
       "  <thead>\n",
       "    <tr style=\"text-align: right;\">\n",
       "      <th></th>\n",
       "      <th>24</th>\n",
       "      <th>13</th>\n",
       "      <th>16</th>\n",
       "      <th>15</th>\n",
       "      <th>14</th>\n",
       "      <th>17</th>\n",
       "      <th>10</th>\n",
       "      <th>9</th>\n",
       "      <th>11</th>\n",
       "      <th>21</th>\n",
       "      <th>...</th>\n",
       "      <th>19</th>\n",
       "      <th>23</th>\n",
       "      <th>7</th>\n",
       "      <th>12</th>\n",
       "      <th>1</th>\n",
       "      <th>6</th>\n",
       "      <th>4</th>\n",
       "      <th>2</th>\n",
       "      <th>5</th>\n",
       "      <th>3</th>\n",
       "    </tr>\n",
       "  </thead>\n",
       "  <tbody>\n",
       "    <tr>\n",
       "      <th>PREMISE CHECK, OFFICER INITIATED ONVIEW ONLY</th>\n",
       "      <td>51</td>\n",
       "      <td>65</td>\n",
       "      <td>50</td>\n",
       "      <td>35</td>\n",
       "      <td>42</td>\n",
       "      <td>32</td>\n",
       "      <td>46</td>\n",
       "      <td>52</td>\n",
       "      <td>36</td>\n",
       "      <td>31</td>\n",
       "      <td>...</td>\n",
       "      <td>21</td>\n",
       "      <td>21</td>\n",
       "      <td>45</td>\n",
       "      <td>26</td>\n",
       "      <td>25</td>\n",
       "      <td>31</td>\n",
       "      <td>45</td>\n",
       "      <td>18</td>\n",
       "      <td>26</td>\n",
       "      <td>25</td>\n",
       "    </tr>\n",
       "    <tr>\n",
       "      <th>DISTURBANCE, MISCELLANEOUS/OTHER</th>\n",
       "      <td>35</td>\n",
       "      <td>20</td>\n",
       "      <td>21</td>\n",
       "      <td>21</td>\n",
       "      <td>20</td>\n",
       "      <td>29</td>\n",
       "      <td>15</td>\n",
       "      <td>21</td>\n",
       "      <td>22</td>\n",
       "      <td>25</td>\n",
       "      <td>...</td>\n",
       "      <td>21</td>\n",
       "      <td>20</td>\n",
       "      <td>11</td>\n",
       "      <td>18</td>\n",
       "      <td>27</td>\n",
       "      <td>7</td>\n",
       "      <td>8</td>\n",
       "      <td>28</td>\n",
       "      <td>14</td>\n",
       "      <td>18</td>\n",
       "    </tr>\n",
       "    <tr>\n",
       "      <th>TRAFFIC STOP - OFFICER INITIATED ONVIEW</th>\n",
       "      <td>30</td>\n",
       "      <td>29</td>\n",
       "      <td>20</td>\n",
       "      <td>17</td>\n",
       "      <td>23</td>\n",
       "      <td>22</td>\n",
       "      <td>22</td>\n",
       "      <td>20</td>\n",
       "      <td>24</td>\n",
       "      <td>48</td>\n",
       "      <td>...</td>\n",
       "      <td>9</td>\n",
       "      <td>32</td>\n",
       "      <td>17</td>\n",
       "      <td>31</td>\n",
       "      <td>26</td>\n",
       "      <td>13</td>\n",
       "      <td>11</td>\n",
       "      <td>22</td>\n",
       "      <td>11</td>\n",
       "      <td>11</td>\n",
       "    </tr>\n",
       "    <tr>\n",
       "      <th>SUSPICIOUS PERSON, VEHICLE OR INCIDENT</th>\n",
       "      <td>29</td>\n",
       "      <td>31</td>\n",
       "      <td>21</td>\n",
       "      <td>28</td>\n",
       "      <td>31</td>\n",
       "      <td>24</td>\n",
       "      <td>28</td>\n",
       "      <td>27</td>\n",
       "      <td>23</td>\n",
       "      <td>38</td>\n",
       "      <td>...</td>\n",
       "      <td>29</td>\n",
       "      <td>33</td>\n",
       "      <td>19</td>\n",
       "      <td>34</td>\n",
       "      <td>27</td>\n",
       "      <td>14</td>\n",
       "      <td>20</td>\n",
       "      <td>26</td>\n",
       "      <td>11</td>\n",
       "      <td>10</td>\n",
       "    </tr>\n",
       "    <tr>\n",
       "      <th>PARKING VIOLATION (EXCEPT ABANDONED CAR)</th>\n",
       "      <td>29</td>\n",
       "      <td>27</td>\n",
       "      <td>18</td>\n",
       "      <td>29</td>\n",
       "      <td>24</td>\n",
       "      <td>23</td>\n",
       "      <td>40</td>\n",
       "      <td>31</td>\n",
       "      <td>33</td>\n",
       "      <td>15</td>\n",
       "      <td>...</td>\n",
       "      <td>20</td>\n",
       "      <td>13</td>\n",
       "      <td>31</td>\n",
       "      <td>6</td>\n",
       "      <td>4</td>\n",
       "      <td>15</td>\n",
       "      <td>2</td>\n",
       "      <td>3</td>\n",
       "      <td>7</td>\n",
       "      <td>1</td>\n",
       "    </tr>\n",
       "    <tr>\n",
       "      <th>SUSPICIOUS STOP - OFFICER INITIATED ONVIEW</th>\n",
       "      <td>27</td>\n",
       "      <td>19</td>\n",
       "      <td>15</td>\n",
       "      <td>21</td>\n",
       "      <td>19</td>\n",
       "      <td>19</td>\n",
       "      <td>16</td>\n",
       "      <td>4</td>\n",
       "      <td>16</td>\n",
       "      <td>19</td>\n",
       "      <td>...</td>\n",
       "      <td>3</td>\n",
       "      <td>28</td>\n",
       "      <td>4</td>\n",
       "      <td>27</td>\n",
       "      <td>17</td>\n",
       "      <td>7</td>\n",
       "      <td>9</td>\n",
       "      <td>12</td>\n",
       "      <td>4</td>\n",
       "      <td>9</td>\n",
       "    </tr>\n",
       "    <tr>\n",
       "      <th>DIRECTED PATROL ACTIVITY</th>\n",
       "      <td>21</td>\n",
       "      <td>21</td>\n",
       "      <td>17</td>\n",
       "      <td>19</td>\n",
       "      <td>28</td>\n",
       "      <td>12</td>\n",
       "      <td>9</td>\n",
       "      <td>13</td>\n",
       "      <td>6</td>\n",
       "      <td>12</td>\n",
       "      <td>...</td>\n",
       "      <td>9</td>\n",
       "      <td>9</td>\n",
       "      <td>17</td>\n",
       "      <td>12</td>\n",
       "      <td>11</td>\n",
       "      <td>19</td>\n",
       "      <td>35</td>\n",
       "      <td>3</td>\n",
       "      <td>19</td>\n",
       "      <td>13</td>\n",
       "    </tr>\n",
       "    <tr>\n",
       "      <th>NARCOTICS - VIOLATIONS (LOITER, USE, SELL, NARS)</th>\n",
       "      <td>13</td>\n",
       "      <td>7</td>\n",
       "      <td>13</td>\n",
       "      <td>11</td>\n",
       "      <td>9</td>\n",
       "      <td>4</td>\n",
       "      <td>4</td>\n",
       "      <td>2</td>\n",
       "      <td>5</td>\n",
       "      <td>11</td>\n",
       "      <td>...</td>\n",
       "      <td>7</td>\n",
       "      <td>7</td>\n",
       "      <td>1</td>\n",
       "      <td>2</td>\n",
       "      <td>4</td>\n",
       "      <td>0</td>\n",
       "      <td>2</td>\n",
       "      <td>2</td>\n",
       "      <td>0</td>\n",
       "      <td>1</td>\n",
       "    </tr>\n",
       "    <tr>\n",
       "      <th>THEFT (DOES NOT INCLUDE SHOPLIFT OR SVCS)</th>\n",
       "      <td>12</td>\n",
       "      <td>12</td>\n",
       "      <td>13</td>\n",
       "      <td>16</td>\n",
       "      <td>19</td>\n",
       "      <td>12</td>\n",
       "      <td>14</td>\n",
       "      <td>13</td>\n",
       "      <td>9</td>\n",
       "      <td>5</td>\n",
       "      <td>...</td>\n",
       "      <td>10</td>\n",
       "      <td>5</td>\n",
       "      <td>9</td>\n",
       "      <td>1</td>\n",
       "      <td>10</td>\n",
       "      <td>5</td>\n",
       "      <td>6</td>\n",
       "      <td>4</td>\n",
       "      <td>12</td>\n",
       "      <td>5</td>\n",
       "    </tr>\n",
       "    <tr>\n",
       "      <th>NUISANCE - MISCHIEF</th>\n",
       "      <td>11</td>\n",
       "      <td>10</td>\n",
       "      <td>9</td>\n",
       "      <td>5</td>\n",
       "      <td>6</td>\n",
       "      <td>7</td>\n",
       "      <td>16</td>\n",
       "      <td>15</td>\n",
       "      <td>13</td>\n",
       "      <td>6</td>\n",
       "      <td>...</td>\n",
       "      <td>8</td>\n",
       "      <td>3</td>\n",
       "      <td>14</td>\n",
       "      <td>2</td>\n",
       "      <td>1</td>\n",
       "      <td>7</td>\n",
       "      <td>1</td>\n",
       "      <td>0</td>\n",
       "      <td>2</td>\n",
       "      <td>1</td>\n",
       "    </tr>\n",
       "  </tbody>\n",
       "</table>\n",
       "<p>10 rows × 24 columns</p>\n",
       "</div>"
      ],
      "text/plain": [
       "                                                  24  13  16  15  14  17  10  \\\n",
       "PREMISE CHECK, OFFICER INITIATED ONVIEW ONLY      51  65  50  35  42  32  46   \n",
       "DISTURBANCE, MISCELLANEOUS/OTHER                  35  20  21  21  20  29  15   \n",
       "TRAFFIC STOP - OFFICER INITIATED ONVIEW           30  29  20  17  23  22  22   \n",
       "SUSPICIOUS PERSON, VEHICLE OR INCIDENT            29  31  21  28  31  24  28   \n",
       "PARKING VIOLATION (EXCEPT ABANDONED CAR)          29  27  18  29  24  23  40   \n",
       "SUSPICIOUS STOP - OFFICER INITIATED ONVIEW        27  19  15  21  19  19  16   \n",
       "DIRECTED PATROL ACTIVITY                          21  21  17  19  28  12   9   \n",
       "NARCOTICS - VIOLATIONS (LOITER, USE, SELL, NARS)  13   7  13  11   9   4   4   \n",
       "THEFT (DOES NOT INCLUDE SHOPLIFT OR SVCS)         12  12  13  16  19  12  14   \n",
       "NUISANCE - MISCHIEF                               11  10   9   5   6   7  16   \n",
       "\n",
       "                                                  9   11  21  ...  19  23  7   \\\n",
       "PREMISE CHECK, OFFICER INITIATED ONVIEW ONLY      52  36  31  ...  21  21  45   \n",
       "DISTURBANCE, MISCELLANEOUS/OTHER                  21  22  25  ...  21  20  11   \n",
       "TRAFFIC STOP - OFFICER INITIATED ONVIEW           20  24  48  ...   9  32  17   \n",
       "SUSPICIOUS PERSON, VEHICLE OR INCIDENT            27  23  38  ...  29  33  19   \n",
       "PARKING VIOLATION (EXCEPT ABANDONED CAR)          31  33  15  ...  20  13  31   \n",
       "SUSPICIOUS STOP - OFFICER INITIATED ONVIEW         4  16  19  ...   3  28   4   \n",
       "DIRECTED PATROL ACTIVITY                          13   6  12  ...   9   9  17   \n",
       "NARCOTICS - VIOLATIONS (LOITER, USE, SELL, NARS)   2   5  11  ...   7   7   1   \n",
       "THEFT (DOES NOT INCLUDE SHOPLIFT OR SVCS)         13   9   5  ...  10   5   9   \n",
       "NUISANCE - MISCHIEF                               15  13   6  ...   8   3  14   \n",
       "\n",
       "                                                  12  1   6   4   2   5   3   \n",
       "PREMISE CHECK, OFFICER INITIATED ONVIEW ONLY      26  25  31  45  18  26  25  \n",
       "DISTURBANCE, MISCELLANEOUS/OTHER                  18  27   7   8  28  14  18  \n",
       "TRAFFIC STOP - OFFICER INITIATED ONVIEW           31  26  13  11  22  11  11  \n",
       "SUSPICIOUS PERSON, VEHICLE OR INCIDENT            34  27  14  20  26  11  10  \n",
       "PARKING VIOLATION (EXCEPT ABANDONED CAR)           6   4  15   2   3   7   1  \n",
       "SUSPICIOUS STOP - OFFICER INITIATED ONVIEW        27  17   7   9  12   4   9  \n",
       "DIRECTED PATROL ACTIVITY                          12  11  19  35   3  19  13  \n",
       "NARCOTICS - VIOLATIONS (LOITER, USE, SELL, NARS)   2   4   0   2   2   0   1  \n",
       "THEFT (DOES NOT INCLUDE SHOPLIFT OR SVCS)          1  10   5   6   4  12   5  \n",
       "NUISANCE - MISCHIEF                                2   1   7   1   0   2   1  \n",
       "\n",
       "[10 rows x 24 columns]"
      ]
     },
     "execution_count": 42,
     "metadata": {},
     "output_type": "execute_result"
    }
   ],
   "source": [
    "time_and_call.head(10)"
   ]
  },
  {
   "cell_type": "code",
   "execution_count": 62,
   "id": "e80edcb1",
   "metadata": {},
   "outputs": [],
   "source": [
    "# turn the counts into percentages by category per specific hour (percentages by column)\n",
    "time_and_call_percent = counts_to_portions(time_and_call, variant = 'col')"
   ]
  },
  {
   "cell_type": "code",
   "execution_count": 63,
   "id": "de198fcc",
   "metadata": {},
   "outputs": [
    {
     "data": {
      "text/html": [
       "<div>\n",
       "<style scoped>\n",
       "    .dataframe tbody tr th:only-of-type {\n",
       "        vertical-align: middle;\n",
       "    }\n",
       "\n",
       "    .dataframe tbody tr th {\n",
       "        vertical-align: top;\n",
       "    }\n",
       "\n",
       "    .dataframe thead th {\n",
       "        text-align: right;\n",
       "    }\n",
       "</style>\n",
       "<table border=\"1\" class=\"dataframe\">\n",
       "  <thead>\n",
       "    <tr style=\"text-align: right;\">\n",
       "      <th></th>\n",
       "      <th>24</th>\n",
       "      <th>13</th>\n",
       "    </tr>\n",
       "  </thead>\n",
       "  <tbody>\n",
       "    <tr>\n",
       "      <th>PREMISE CHECK, OFFICER INITIATED ONVIEW ONLY</th>\n",
       "      <td>0.086882</td>\n",
       "      <td>0.110733</td>\n",
       "    </tr>\n",
       "    <tr>\n",
       "      <th>DISTURBANCE, MISCELLANEOUS/OTHER</th>\n",
       "      <td>0.059625</td>\n",
       "      <td>0.034072</td>\n",
       "    </tr>\n",
       "    <tr>\n",
       "      <th>TRAFFIC STOP - OFFICER INITIATED ONVIEW</th>\n",
       "      <td>0.051107</td>\n",
       "      <td>0.049404</td>\n",
       "    </tr>\n",
       "    <tr>\n",
       "      <th>SUSPICIOUS PERSON, VEHICLE OR INCIDENT</th>\n",
       "      <td>0.049404</td>\n",
       "      <td>0.052811</td>\n",
       "    </tr>\n",
       "    <tr>\n",
       "      <th>PARKING VIOLATION (EXCEPT ABANDONED CAR)</th>\n",
       "      <td>0.049404</td>\n",
       "      <td>0.045997</td>\n",
       "    </tr>\n",
       "    <tr>\n",
       "      <th>SUSPICIOUS STOP - OFFICER INITIATED ONVIEW</th>\n",
       "      <td>0.045997</td>\n",
       "      <td>0.032368</td>\n",
       "    </tr>\n",
       "    <tr>\n",
       "      <th>DIRECTED PATROL ACTIVITY</th>\n",
       "      <td>0.035775</td>\n",
       "      <td>0.035775</td>\n",
       "    </tr>\n",
       "    <tr>\n",
       "      <th>NARCOTICS - VIOLATIONS (LOITER, USE, SELL, NARS)</th>\n",
       "      <td>0.022147</td>\n",
       "      <td>0.011925</td>\n",
       "    </tr>\n",
       "    <tr>\n",
       "      <th>THEFT (DOES NOT INCLUDE SHOPLIFT OR SVCS)</th>\n",
       "      <td>0.020443</td>\n",
       "      <td>0.020443</td>\n",
       "    </tr>\n",
       "    <tr>\n",
       "      <th>NUISANCE - MISCHIEF</th>\n",
       "      <td>0.018739</td>\n",
       "      <td>0.017036</td>\n",
       "    </tr>\n",
       "  </tbody>\n",
       "</table>\n",
       "</div>"
      ],
      "text/plain": [
       "                                                        24        13\n",
       "PREMISE CHECK, OFFICER INITIATED ONVIEW ONLY      0.086882  0.110733\n",
       "DISTURBANCE, MISCELLANEOUS/OTHER                  0.059625  0.034072\n",
       "TRAFFIC STOP - OFFICER INITIATED ONVIEW           0.051107  0.049404\n",
       "SUSPICIOUS PERSON, VEHICLE OR INCIDENT            0.049404  0.052811\n",
       "PARKING VIOLATION (EXCEPT ABANDONED CAR)          0.049404  0.045997\n",
       "SUSPICIOUS STOP - OFFICER INITIATED ONVIEW        0.045997  0.032368\n",
       "DIRECTED PATROL ACTIVITY                          0.035775  0.035775\n",
       "NARCOTICS - VIOLATIONS (LOITER, USE, SELL, NARS)  0.022147  0.011925\n",
       "THEFT (DOES NOT INCLUDE SHOPLIFT OR SVCS)         0.020443  0.020443\n",
       "NUISANCE - MISCHIEF                               0.018739  0.017036"
      ]
     },
     "execution_count": 63,
     "metadata": {},
     "output_type": "execute_result"
    }
   ],
   "source": [
    "time_and_call_percent[[24, 13]].head(10)"
   ]
  },
  {
   "cell_type": "code",
   "execution_count": 64,
   "id": "c7997ddb",
   "metadata": {},
   "outputs": [
    {
     "data": {
      "text/plain": [
       "PREMISE CHECK, OFFICER INITIATED ONVIEW ONLY        0.086882\n",
       "DISTURBANCE, MISCELLANEOUS/OTHER                    0.059625\n",
       "TRAFFIC STOP - OFFICER INITIATED ONVIEW             0.051107\n",
       "SUSPICIOUS PERSON, VEHICLE OR INCIDENT              0.049404\n",
       "PARKING VIOLATION (EXCEPT ABANDONED CAR)            0.049404\n",
       "SUSPICIOUS STOP - OFFICER INITIATED ONVIEW          0.045997\n",
       "DIRECTED PATROL ACTIVITY                            0.035775\n",
       "NARCOTICS - VIOLATIONS (LOITER, USE, SELL, NARS)    0.022147\n",
       "THEFT (DOES NOT INCLUDE SHOPLIFT OR SVCS)           0.020443\n",
       "NUISANCE - MISCHIEF                                 0.018739\n",
       "Name: 24, dtype: float64"
      ]
     },
     "execution_count": 64,
     "metadata": {},
     "output_type": "execute_result"
    }
   ],
   "source": [
    "time_and_call_percent[24].sort_values(ascending=False).head(10)"
   ]
  },
  {
   "cell_type": "code",
   "execution_count": 65,
   "id": "9de98eb1",
   "metadata": {},
   "outputs": [
    {
     "data": {
      "text/plain": [
       "PREMISE CHECK, OFFICER INITIATED ONVIEW ONLY    0.110733\n",
       "SUSPICIOUS PERSON, VEHICLE OR INCIDENT          0.052811\n",
       "TRAFFIC STOP - OFFICER INITIATED ONVIEW         0.049404\n",
       "PARKING VIOLATION (EXCEPT ABANDONED CAR)        0.045997\n",
       "DIRECTED PATROL ACTIVITY                        0.035775\n",
       "DISTURBANCE, MISCELLANEOUS/OTHER                0.034072\n",
       "SUSPICIOUS STOP - OFFICER INITIATED ONVIEW      0.032368\n",
       "SHOPLIFT - THEFT                                0.030664\n",
       "TRESPASS                                        0.030664\n",
       "FOLLOW UP                                       0.023850\n",
       "Name: 13, dtype: float64"
      ]
     },
     "execution_count": 65,
     "metadata": {},
     "output_type": "execute_result"
    }
   ],
   "source": [
    "time_and_call_percent[13].sort_values(ascending=False).head(10)"
   ]
  },
  {
   "cell_type": "code",
   "execution_count": 69,
   "id": "b72af83e",
   "metadata": {},
   "outputs": [
    {
     "data": {
      "text/plain": [
       "PREMISE CHECK, OFFICER INITIATED ONVIEW ONLY    0.086356\n",
       "SUSPICIOUS PERSON, VEHICLE OR INCIDENT          0.059535\n",
       "TRAFFIC STOP - OFFICER INITIATED ONVIEW         0.055369\n",
       "DISTURBANCE, MISCELLANEOUS/OTHER                0.049782\n",
       "PARKING VIOLATION (EXCEPT ABANDONED CAR)        0.046937\n",
       "DIRECTED PATROL ACTIVITY                        0.036371\n",
       "SUSPICIOUS STOP - OFFICER INITIATED ONVIEW      0.035152\n",
       "TRESPASS                                        0.024891\n",
       "THEFT (DOES NOT INCLUDE SHOPLIFT OR SVCS)       0.022859\n",
       "OFF DUTY EMPLOYMENT                             0.017474\n",
       "Name: Initial Call Type, dtype: float64"
      ]
     },
     "execution_count": 69,
     "metadata": {},
     "output_type": "execute_result"
    }
   ],
   "source": [
    "# For reference, we should take a look at the top 10 overall for Initial Call Type\n",
    "df['Initial Call Type'].value_counts(ascending=False).head(10) / df.shape[0]"
   ]
  },
  {
   "cell_type": "code",
   "execution_count": 54,
   "id": "4f206a70",
   "metadata": {},
   "outputs": [
    {
     "data": {
      "text/html": [
       "<div>\n",
       "<style scoped>\n",
       "    .dataframe tbody tr th:only-of-type {\n",
       "        vertical-align: middle;\n",
       "    }\n",
       "\n",
       "    .dataframe tbody tr th {\n",
       "        vertical-align: top;\n",
       "    }\n",
       "\n",
       "    .dataframe thead th {\n",
       "        text-align: right;\n",
       "    }\n",
       "</style>\n",
       "<table border=\"1\" class=\"dataframe\">\n",
       "  <thead>\n",
       "    <tr style=\"text-align: right;\">\n",
       "      <th></th>\n",
       "      <th>24</th>\n",
       "      <th>13</th>\n",
       "    </tr>\n",
       "  </thead>\n",
       "  <tbody>\n",
       "    <tr>\n",
       "      <th>--PREMISE CHECKS - CRIME PREVENTION</th>\n",
       "      <td>0.080068</td>\n",
       "      <td>0.091993</td>\n",
       "    </tr>\n",
       "    <tr>\n",
       "      <th>--SUSPICIOUS CIRCUM. - SUSPICIOUS PERSON</th>\n",
       "      <td>0.080068</td>\n",
       "      <td>0.071550</td>\n",
       "    </tr>\n",
       "    <tr>\n",
       "      <th>--TRAFFIC - MV COLLISION INVESTIGATION</th>\n",
       "      <td>0.064736</td>\n",
       "      <td>0.052811</td>\n",
       "    </tr>\n",
       "    <tr>\n",
       "      <th>--DISTURBANCE - OTHER</th>\n",
       "      <td>0.056218</td>\n",
       "      <td>0.049404</td>\n",
       "    </tr>\n",
       "    <tr>\n",
       "      <th>--TRAFFIC - MOVING VIOLATION</th>\n",
       "      <td>0.056218</td>\n",
       "      <td>0.045997</td>\n",
       "    </tr>\n",
       "    <tr>\n",
       "      <th>--TRAFFIC - PARKING VIOL (EXCEPT ABANDONED CAR)</th>\n",
       "      <td>0.056218</td>\n",
       "      <td>0.051107</td>\n",
       "    </tr>\n",
       "    <tr>\n",
       "      <th>--THEFT - ALL OTHER</th>\n",
       "      <td>0.035775</td>\n",
       "      <td>0.018739</td>\n",
       "    </tr>\n",
       "    <tr>\n",
       "      <th>--ASSIST PUBLIC - OTHER (NON-SPECIFIED)</th>\n",
       "      <td>0.035775</td>\n",
       "      <td>0.037479</td>\n",
       "    </tr>\n",
       "    <tr>\n",
       "      <th>--DIRECTED PATROL ACTIVITY</th>\n",
       "      <td>0.025554</td>\n",
       "      <td>0.034072</td>\n",
       "    </tr>\n",
       "    <tr>\n",
       "      <th>--CRISIS COMPLAINT - GENERAL</th>\n",
       "      <td>0.023850</td>\n",
       "      <td>0.020443</td>\n",
       "    </tr>\n",
       "  </tbody>\n",
       "</table>\n",
       "</div>"
      ],
      "text/plain": [
       "                                                       24        13\n",
       "--PREMISE CHECKS - CRIME PREVENTION              0.080068  0.091993\n",
       "--SUSPICIOUS CIRCUM. - SUSPICIOUS PERSON         0.080068  0.071550\n",
       "--TRAFFIC - MV COLLISION INVESTIGATION           0.064736  0.052811\n",
       "--DISTURBANCE - OTHER                            0.056218  0.049404\n",
       "--TRAFFIC - MOVING VIOLATION                     0.056218  0.045997\n",
       "--TRAFFIC - PARKING VIOL (EXCEPT ABANDONED CAR)  0.056218  0.051107\n",
       "--THEFT - ALL OTHER                              0.035775  0.018739\n",
       "--ASSIST PUBLIC - OTHER (NON-SPECIFIED)          0.035775  0.037479\n",
       "--DIRECTED PATROL ACTIVITY                       0.025554  0.034072\n",
       "--CRISIS COMPLAINT - GENERAL                     0.023850  0.020443"
      ]
     },
     "execution_count": 54,
     "metadata": {},
     "output_type": "execute_result"
    }
   ],
   "source": [
    "time_and_call = secondary_unique(df, 'queue_time_hour', 'Final Call Type', 'yes')\n",
    "time_and_call_percent = counts_to_portions(time_and_call, variant = 'col')\n",
    "time_and_call_percent[[24, 13]].head(10)"
   ]
  },
  {
   "cell_type": "code",
   "execution_count": 59,
   "id": "43d3f416",
   "metadata": {},
   "outputs": [
    {
     "data": {
      "text/plain": [
       "--PREMISE CHECKS - CRIME PREVENTION                0.080068\n",
       "--SUSPICIOUS CIRCUM. - SUSPICIOUS PERSON           0.080068\n",
       "--TRAFFIC - MV COLLISION INVESTIGATION             0.064736\n",
       "--DISTURBANCE - OTHER                              0.056218\n",
       "--TRAFFIC - MOVING VIOLATION                       0.056218\n",
       "--TRAFFIC - PARKING VIOL (EXCEPT ABANDONED CAR)    0.056218\n",
       "--THEFT - ALL OTHER                                0.035775\n",
       "--ASSIST PUBLIC - OTHER (NON-SPECIFIED)            0.035775\n",
       "--DIRECTED PATROL ACTIVITY                         0.025554\n",
       "--PROWLER - TRESPASS                               0.023850\n",
       "Name: 24, dtype: float64"
      ]
     },
     "execution_count": 59,
     "metadata": {},
     "output_type": "execute_result"
    }
   ],
   "source": [
    "time_and_call_percent[24].sort_values(ascending=False).head(10)"
   ]
  },
  {
   "cell_type": "code",
   "execution_count": 60,
   "id": "e1242a53",
   "metadata": {},
   "outputs": [
    {
     "data": {
      "text/plain": [
       "--PREMISE CHECKS - CRIME PREVENTION                0.091993\n",
       "--SUSPICIOUS CIRCUM. - SUSPICIOUS PERSON           0.071550\n",
       "--TRAFFIC - MV COLLISION INVESTIGATION             0.052811\n",
       "--TRAFFIC - PARKING VIOL (EXCEPT ABANDONED CAR)    0.051107\n",
       "--DISTURBANCE - OTHER                              0.049404\n",
       "--TRAFFIC - MOVING VIOLATION                       0.045997\n",
       "--ASSIST PUBLIC - OTHER (NON-SPECIFIED)            0.037479\n",
       "--DIRECTED PATROL ACTIVITY                         0.034072\n",
       "--PROWLER - TRESPASS                               0.025554\n",
       "--THEFT - SHOPLIFT                                 0.023850\n",
       "Name: 13, dtype: float64"
      ]
     },
     "execution_count": 60,
     "metadata": {},
     "output_type": "execute_result"
    }
   ],
   "source": [
    "time_and_call_percent[13].sort_values(ascending=False).head(10)"
   ]
  },
  {
   "cell_type": "code",
   "execution_count": 70,
   "id": "5ad3548c",
   "metadata": {},
   "outputs": [
    {
     "data": {
      "text/plain": [
       "--SUSPICIOUS CIRCUM. - SUSPICIOUS PERSON           0.084730\n",
       "--PREMISE CHECKS - CRIME PREVENTION                0.080971\n",
       "--DISTURBANCE - OTHER                              0.074164\n",
       "--TRAFFIC - MOVING VIOLATION                       0.053134\n",
       "--TRAFFIC - PARKING VIOL (EXCEPT ABANDONED CAR)    0.048461\n",
       "--TRAFFIC - MV COLLISION INVESTIGATION             0.045311\n",
       "--ASSIST PUBLIC - OTHER (NON-SPECIFIED)            0.041959\n",
       "--DIRECTED PATROL ACTIVITY                         0.029564\n",
       "--PROWLER - TRESPASS                               0.027227\n",
       "--SUSPICIOUS CIRCUM. - SUSPICIOUS VEHICLE          0.023468\n",
       "Name: Final Call Type, dtype: float64"
      ]
     },
     "execution_count": 70,
     "metadata": {},
     "output_type": "execute_result"
    }
   ],
   "source": [
    "# For reference, we should take a look at the top 10 overall for Initial Call Type\n",
    "df['Final Call Type'].value_counts(ascending=False).head(10) / df.shape[0]"
   ]
  },
  {
   "cell_type": "markdown",
   "id": "bc27c3a8",
   "metadata": {},
   "source": [
    "## Potential Question 2\n",
    "Do amount of calls / priority of calls change by precinct, sector or beat?"
   ]
  },
  {
   "cell_type": "code",
   "execution_count": null,
   "id": "83ccef2a",
   "metadata": {},
   "outputs": [],
   "source": []
  },
  {
   "cell_type": "code",
   "execution_count": null,
   "id": "fcab9d49",
   "metadata": {},
   "outputs": [],
   "source": []
  },
  {
   "cell_type": "code",
   "execution_count": null,
   "id": "7f180484",
   "metadata": {},
   "outputs": [],
   "source": []
  },
  {
   "cell_type": "markdown",
   "id": "22c15874",
   "metadata": {},
   "source": [
    "## Potential Question 3\n",
    "What determines priority?"
   ]
  },
  {
   "cell_type": "markdown",
   "id": "558f1d19",
   "metadata": {},
   "source": [
    "## Potential Question Freestyle\n",
    "Did we uncover anything interesting that we should explore further before building a model?"
   ]
  },
  {
   "cell_type": "markdown",
   "id": "12561e0e",
   "metadata": {},
   "source": [
    "## Creating the Predictive Model"
   ]
  },
  {
   "cell_type": "code",
   "execution_count": null,
   "id": "11406c5a",
   "metadata": {},
   "outputs": [],
   "source": []
  }
 ],
 "metadata": {
  "kernelspec": {
   "display_name": "Python 3 (ipykernel)",
   "language": "python",
   "name": "python3"
  },
  "language_info": {
   "codemirror_mode": {
    "name": "ipython",
    "version": 3
   },
   "file_extension": ".py",
   "mimetype": "text/x-python",
   "name": "python",
   "nbconvert_exporter": "python",
   "pygments_lexer": "ipython3",
   "version": "3.9.12"
  }
 },
 "nbformat": 4,
 "nbformat_minor": 5
}
