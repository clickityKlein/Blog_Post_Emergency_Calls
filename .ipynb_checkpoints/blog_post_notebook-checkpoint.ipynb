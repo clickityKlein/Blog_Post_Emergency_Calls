{
 "cells": [
  {
   "cell_type": "markdown",
   "id": "690d1d33",
   "metadata": {},
   "source": [
    "## Initialization\n",
    "We'll start off by importing the necessary libraries and modules. Unique to this notebook will be a separate notebook containing any\n",
    "functions required for this project."
   ]
  },
  {
   "cell_type": "code",
   "execution_count": 2,
   "id": "aca8b8be",
   "metadata": {},
   "outputs": [],
   "source": [
    "# Importing the standard libraries and modules\n",
    "import numpy as np\n",
    "import pandas as pd\n",
    "import matplotlib.pyplot as plt\n",
    "import seaborn as sb\n",
    "from sklearn.linear_model import LinearRegression\n",
    "from sklearn.model_selection import train_test_split\n",
    "from sklearn.metrics import r2_score, mean_squared_error"
   ]
  },
  {
   "cell_type": "code",
   "execution_count": 1,
   "id": "95de5053",
   "metadata": {},
   "outputs": [],
   "source": [
    "# Importing the file containing our unique functions\n",
    "\"\"\"\n",
    "vals_by_col\n",
    "date_to_col\n",
    "secondary_unique\n",
    "counts_to_portions\n",
    "expand_categories\n",
    "\"\"\"\n",
    "# pip install ipynb\n",
    "from ipynb.fs.full.blog_post_functions import *"
   ]
  },
  {
   "cell_type": "markdown",
   "id": "e5fe32e1",
   "metadata": {},
   "source": [
    "## Load Data and Perform Initial Inspection\n",
    "We gathered our data from https://data.seattle.gov/Public-Safety/Call-Data/33kz-ixgy, which provided a dataset named \"Call Data\" containing data on emergency calls to the Seattle Police Department call center.\n",
    "\n",
    "The dataset itself is just over 5 million rows, and very much so over GitHub's size limitation. The dataset we will be performing our analysis on is a subset containing 10,000 rows of data."
   ]
  },
  {
   "cell_type": "code",
   "execution_count": null,
   "id": "b968be62",
   "metadata": {},
   "outputs": [],
   "source": [
    "\"\"\"\n",
    "DO NOT RUN!\n",
    "\n",
    "This cell will not run, it is only included to show how we obtained our subset.\n",
    "\"\"\"\n",
    "\n",
    "df = pd.read_csv('Call_Data.csv')\n",
    "\n",
    "np.random.seed(0)\n",
    "df_sample = np.random.choice(df.shape[0], 10000, replace = False)\n",
    "df_subset = df.loc[df_sample]\n",
    "\n",
    "df_subset.to_csv('Call_Data_Subset.csv')"
   ]
  },
  {
   "cell_type": "code",
   "execution_count": 3,
   "id": "c2966831",
   "metadata": {},
   "outputs": [],
   "source": [
    "# Loading the Data (pretending we're starting with the 10,000 row dataset)\n",
    "df = pd.read_csv('Call_Data_Subset.csv')"
   ]
  },
  {
   "cell_type": "markdown",
   "id": "a9d9469b",
   "metadata": {},
   "source": [
    "## Initial Inspection\n",
    "1. Check data types, and how it is all formatted.\n",
    "2. Check for missing values, and amount of missing values.\n",
    "3. Look for anything unique. Is there anything we haven't encountered before?"
   ]
  },
  {
   "cell_type": "code",
   "execution_count": 7,
   "id": "cd6ec9cf",
   "metadata": {},
   "outputs": [
    {
     "data": {
      "text/plain": [
       "(10000, 12)"
      ]
     },
     "execution_count": 7,
     "metadata": {},
     "output_type": "execute_result"
    }
   ],
   "source": [
    "# Overall shape\n",
    "df.shape"
   ]
  },
  {
   "cell_type": "code",
   "execution_count": 9,
   "id": "aa219705",
   "metadata": {},
   "outputs": [
    {
     "name": "stdout",
     "output_type": "stream",
     "text": [
      "Index(['Unnamed: 0', 'CAD Event Number', 'Event Clearance Description',\n",
      "       'Call Type', 'Priority', 'Initial Call Type', 'Final Call Type',\n",
      "       'Original Time Queued', 'Arrived Time', 'Precinct', 'Sector', 'Beat'],\n",
      "      dtype='object')\n"
     ]
    }
   ],
   "source": [
    "# Columns\n",
    "df.columns"
   ]
  },
  {
   "cell_type": "code",
   "execution_count": 10,
   "id": "3cf4afce",
   "metadata": {},
   "outputs": [
    {
     "data": {
      "text/html": [
       "<div>\n",
       "<style scoped>\n",
       "    .dataframe tbody tr th:only-of-type {\n",
       "        vertical-align: middle;\n",
       "    }\n",
       "\n",
       "    .dataframe tbody tr th {\n",
       "        vertical-align: top;\n",
       "    }\n",
       "\n",
       "    .dataframe thead th {\n",
       "        text-align: right;\n",
       "    }\n",
       "</style>\n",
       "<table border=\"1\" class=\"dataframe\">\n",
       "  <thead>\n",
       "    <tr style=\"text-align: right;\">\n",
       "      <th></th>\n",
       "      <th>Unnamed: 0</th>\n",
       "      <th>CAD Event Number</th>\n",
       "      <th>Event Clearance Description</th>\n",
       "      <th>Call Type</th>\n",
       "      <th>Priority</th>\n",
       "      <th>Initial Call Type</th>\n",
       "      <th>Final Call Type</th>\n",
       "      <th>Original Time Queued</th>\n",
       "      <th>Arrived Time</th>\n",
       "      <th>Precinct</th>\n",
       "      <th>Sector</th>\n",
       "      <th>Beat</th>\n",
       "    </tr>\n",
       "  </thead>\n",
       "  <tbody>\n",
       "    <tr>\n",
       "      <th>0</th>\n",
       "      <td>2255988</td>\n",
       "      <td>2017000106644</td>\n",
       "      <td>PROBLEM SOLVING PROJECT</td>\n",
       "      <td>ONVIEW</td>\n",
       "      <td>4</td>\n",
       "      <td>REQUEST TO WATCH</td>\n",
       "      <td>--PREMISE CHECKS - REQUEST TO WATCH</td>\n",
       "      <td>03/27/2017 05:02:47 AM</td>\n",
       "      <td>03/27/2017 05:02:47 AM</td>\n",
       "      <td>SOUTH</td>\n",
       "      <td>OCEAN</td>\n",
       "      <td>O3</td>\n",
       "    </tr>\n",
       "    <tr>\n",
       "      <th>1</th>\n",
       "      <td>602424</td>\n",
       "      <td>2022000027644</td>\n",
       "      <td>ASSISTANCE RENDERED</td>\n",
       "      <td>ONVIEW</td>\n",
       "      <td>9</td>\n",
       "      <td>-ASSIGNED DUTY - DETAIL BY SUPERVISOR</td>\n",
       "      <td>--MISCHIEF OR NUISANCE - GENERAL</td>\n",
       "      <td>02/02/2022 09:42:35 AM</td>\n",
       "      <td>02/02/2022 09:42:35 AM</td>\n",
       "      <td>WEST</td>\n",
       "      <td>KING</td>\n",
       "      <td>K1</td>\n",
       "    </tr>\n",
       "    <tr>\n",
       "      <th>2</th>\n",
       "      <td>4322263</td>\n",
       "      <td>2020000160933</td>\n",
       "      <td>ASSISTANCE RENDERED</td>\n",
       "      <td>911</td>\n",
       "      <td>3</td>\n",
       "      <td>CHILD - ABAND, ABUSED, MOLESTED, NEGLECTED</td>\n",
       "      <td>--DISTURBANCE - OTHER</td>\n",
       "      <td>05/15/2020 11:23:01 PM</td>\n",
       "      <td>05/15/2020 11:33:28 PM</td>\n",
       "      <td>SOUTH</td>\n",
       "      <td>ROBERT</td>\n",
       "      <td>R1</td>\n",
       "    </tr>\n",
       "    <tr>\n",
       "      <th>3</th>\n",
       "      <td>1660533</td>\n",
       "      <td>2021000000962</td>\n",
       "      <td>ASSISTANCE RENDERED</td>\n",
       "      <td>ONVIEW</td>\n",
       "      <td>7</td>\n",
       "      <td>PREMISE CHECK, OFFICER INITIATED ONVIEW ONLY</td>\n",
       "      <td>--PREMISE CHECKS - CRIME PREVENTION</td>\n",
       "      <td>01/02/2021 10:16:02 AM</td>\n",
       "      <td>01/02/2021 10:16:02 AM</td>\n",
       "      <td>WEST</td>\n",
       "      <td>DAVID</td>\n",
       "      <td>D3</td>\n",
       "    </tr>\n",
       "    <tr>\n",
       "      <th>4</th>\n",
       "      <td>717846</td>\n",
       "      <td>2018000405368</td>\n",
       "      <td>DUPLICATED OR CANCELLED BY RADIO</td>\n",
       "      <td>911</td>\n",
       "      <td>1</td>\n",
       "      <td>UNKNOWN - ANI/ALI - LANDLINE (INCLUDES OPEN LINE)</td>\n",
       "      <td>UNKNOWN - ANI/ALI - LANDLINE (INCLUDES OPEN LINE)</td>\n",
       "      <td>10/29/2018 05:54:26 PM</td>\n",
       "      <td>01/01/1900 12:00:00 AM</td>\n",
       "      <td>NORTH</td>\n",
       "      <td>LINCOLN</td>\n",
       "      <td>L2</td>\n",
       "    </tr>\n",
       "    <tr>\n",
       "      <th>5</th>\n",
       "      <td>593820</td>\n",
       "      <td>2021000157964</td>\n",
       "      <td>NO POLICE ACTION POSSIBLE OR NECESSARY</td>\n",
       "      <td>911</td>\n",
       "      <td>2</td>\n",
       "      <td>TRESPASS</td>\n",
       "      <td>--PROWLER - TRESPASS</td>\n",
       "      <td>06/24/2021 11:02:12 PM</td>\n",
       "      <td>01/01/1900 12:00:00 AM</td>\n",
       "      <td>NORTH</td>\n",
       "      <td>LINCOLN</td>\n",
       "      <td>L3</td>\n",
       "    </tr>\n",
       "    <tr>\n",
       "      <th>6</th>\n",
       "      <td>2468962</td>\n",
       "      <td>2019000255821</td>\n",
       "      <td>UNABLE TO LOCATE INCIDENT OR COMPLAINANT</td>\n",
       "      <td>911</td>\n",
       "      <td>3</td>\n",
       "      <td>NUISANCE - MISCHIEF</td>\n",
       "      <td>--MISCHIEF OR NUISANCE - GENERAL</td>\n",
       "      <td>07/12/2019 08:51:59 PM</td>\n",
       "      <td>07/12/2019 09:12:50 PM</td>\n",
       "      <td>SOUTHWEST</td>\n",
       "      <td>FRANK</td>\n",
       "      <td>F1</td>\n",
       "    </tr>\n",
       "    <tr>\n",
       "      <th>7</th>\n",
       "      <td>2651296</td>\n",
       "      <td>2020000063174</td>\n",
       "      <td>ASSISTANCE RENDERED</td>\n",
       "      <td>ONVIEW</td>\n",
       "      <td>9</td>\n",
       "      <td>OFF DUTY EMPLOYMENT</td>\n",
       "      <td>-OFF DUTY EMPLOYMENT</td>\n",
       "      <td>02/19/2020 04:19:09 PM</td>\n",
       "      <td>02/19/2020 04:19:09 PM</td>\n",
       "      <td>WEST</td>\n",
       "      <td>MARY</td>\n",
       "      <td>M1</td>\n",
       "    </tr>\n",
       "    <tr>\n",
       "      <th>8</th>\n",
       "      <td>346189</td>\n",
       "      <td>2019000117647</td>\n",
       "      <td>REPORT WRITTEN (NO ARREST)</td>\n",
       "      <td>TELEPHONE OTHER, NOT 911</td>\n",
       "      <td>3</td>\n",
       "      <td>SUSPICIOUS PERSON, VEHICLE OR INCIDENT</td>\n",
       "      <td>--SUSPICIOUS CIRCUM. - SUSPICIOUS PERSON</td>\n",
       "      <td>04/03/2019 08:19:42 AM</td>\n",
       "      <td>04/03/2019 08:50:03 AM</td>\n",
       "      <td>NORTH</td>\n",
       "      <td>BOY</td>\n",
       "      <td>B2</td>\n",
       "    </tr>\n",
       "    <tr>\n",
       "      <th>9</th>\n",
       "      <td>784470</td>\n",
       "      <td>2017000073616</td>\n",
       "      <td>ASSISTANCE RENDERED</td>\n",
       "      <td>ONVIEW</td>\n",
       "      <td>7</td>\n",
       "      <td>PREMISE CHECK, OFFICER INITIATED ONVIEW ONLY</td>\n",
       "      <td>--PREMISE CHECKS - REQUEST TO WATCH</td>\n",
       "      <td>03/01/2017 04:38:28 AM</td>\n",
       "      <td>03/01/2017 04:38:28 AM</td>\n",
       "      <td>NORTH</td>\n",
       "      <td>LINCOLN</td>\n",
       "      <td>L1</td>\n",
       "    </tr>\n",
       "  </tbody>\n",
       "</table>\n",
       "</div>"
      ],
      "text/plain": [
       "   Unnamed: 0  CAD Event Number               Event Clearance Description  \\\n",
       "0     2255988     2017000106644                   PROBLEM SOLVING PROJECT   \n",
       "1      602424     2022000027644                       ASSISTANCE RENDERED   \n",
       "2     4322263     2020000160933                       ASSISTANCE RENDERED   \n",
       "3     1660533     2021000000962                       ASSISTANCE RENDERED   \n",
       "4      717846     2018000405368          DUPLICATED OR CANCELLED BY RADIO   \n",
       "5      593820     2021000157964    NO POLICE ACTION POSSIBLE OR NECESSARY   \n",
       "6     2468962     2019000255821  UNABLE TO LOCATE INCIDENT OR COMPLAINANT   \n",
       "7     2651296     2020000063174                       ASSISTANCE RENDERED   \n",
       "8      346189     2019000117647                REPORT WRITTEN (NO ARREST)   \n",
       "9      784470     2017000073616                       ASSISTANCE RENDERED   \n",
       "\n",
       "                  Call Type  Priority  \\\n",
       "0                    ONVIEW         4   \n",
       "1                    ONVIEW         9   \n",
       "2                       911         3   \n",
       "3                    ONVIEW         7   \n",
       "4                       911         1   \n",
       "5                       911         2   \n",
       "6                       911         3   \n",
       "7                    ONVIEW         9   \n",
       "8  TELEPHONE OTHER, NOT 911         3   \n",
       "9                    ONVIEW         7   \n",
       "\n",
       "                                   Initial Call Type  \\\n",
       "0                                   REQUEST TO WATCH   \n",
       "1              -ASSIGNED DUTY - DETAIL BY SUPERVISOR   \n",
       "2         CHILD - ABAND, ABUSED, MOLESTED, NEGLECTED   \n",
       "3       PREMISE CHECK, OFFICER INITIATED ONVIEW ONLY   \n",
       "4  UNKNOWN - ANI/ALI - LANDLINE (INCLUDES OPEN LINE)   \n",
       "5                                           TRESPASS   \n",
       "6                                NUISANCE - MISCHIEF   \n",
       "7                                OFF DUTY EMPLOYMENT   \n",
       "8             SUSPICIOUS PERSON, VEHICLE OR INCIDENT   \n",
       "9       PREMISE CHECK, OFFICER INITIATED ONVIEW ONLY   \n",
       "\n",
       "                                     Final Call Type    Original Time Queued  \\\n",
       "0                --PREMISE CHECKS - REQUEST TO WATCH  03/27/2017 05:02:47 AM   \n",
       "1                   --MISCHIEF OR NUISANCE - GENERAL  02/02/2022 09:42:35 AM   \n",
       "2                              --DISTURBANCE - OTHER  05/15/2020 11:23:01 PM   \n",
       "3                --PREMISE CHECKS - CRIME PREVENTION  01/02/2021 10:16:02 AM   \n",
       "4  UNKNOWN - ANI/ALI - LANDLINE (INCLUDES OPEN LINE)  10/29/2018 05:54:26 PM   \n",
       "5                               --PROWLER - TRESPASS  06/24/2021 11:02:12 PM   \n",
       "6                   --MISCHIEF OR NUISANCE - GENERAL  07/12/2019 08:51:59 PM   \n",
       "7                               -OFF DUTY EMPLOYMENT  02/19/2020 04:19:09 PM   \n",
       "8           --SUSPICIOUS CIRCUM. - SUSPICIOUS PERSON  04/03/2019 08:19:42 AM   \n",
       "9                --PREMISE CHECKS - REQUEST TO WATCH  03/01/2017 04:38:28 AM   \n",
       "\n",
       "             Arrived Time   Precinct   Sector Beat  \n",
       "0  03/27/2017 05:02:47 AM      SOUTH    OCEAN   O3  \n",
       "1  02/02/2022 09:42:35 AM       WEST     KING   K1  \n",
       "2  05/15/2020 11:33:28 PM      SOUTH   ROBERT   R1  \n",
       "3  01/02/2021 10:16:02 AM       WEST    DAVID   D3  \n",
       "4  01/01/1900 12:00:00 AM      NORTH  LINCOLN   L2  \n",
       "5  01/01/1900 12:00:00 AM      NORTH  LINCOLN   L3  \n",
       "6  07/12/2019 09:12:50 PM  SOUTHWEST    FRANK   F1  \n",
       "7  02/19/2020 04:19:09 PM       WEST     MARY   M1  \n",
       "8  04/03/2019 08:50:03 AM      NORTH      BOY   B2  \n",
       "9  03/01/2017 04:38:28 AM      NORTH  LINCOLN   L1  "
      ]
     },
     "execution_count": 10,
     "metadata": {},
     "output_type": "execute_result"
    }
   ],
   "source": [
    "# What do the first few rows look like?\n",
    "df.head(10)"
   ]
  },
  {
   "cell_type": "code",
   "execution_count": 11,
   "id": "6af7ce11",
   "metadata": {},
   "outputs": [
    {
     "data": {
      "text/plain": [
       "Unnamed: 0                      int64\n",
       "CAD Event Number                int64\n",
       "Event Clearance Description    object\n",
       "Call Type                      object\n",
       "Priority                        int64\n",
       "Initial Call Type              object\n",
       "Final Call Type                object\n",
       "Original Time Queued           object\n",
       "Arrived Time                   object\n",
       "Precinct                       object\n",
       "Sector                         object\n",
       "Beat                           object\n",
       "dtype: object"
      ]
     },
     "execution_count": 11,
     "metadata": {},
     "output_type": "execute_result"
    }
   ],
   "source": [
    "# Data Types\n",
    "df.dtypes"
   ]
  },
  {
   "cell_type": "code",
   "execution_count": 12,
   "id": "d7a8decd",
   "metadata": {},
   "outputs": [
    {
     "data": {
      "text/plain": [
       "Unnamed: 0                      0\n",
       "CAD Event Number                0\n",
       "Event Clearance Description     0\n",
       "Call Type                       0\n",
       "Priority                        0\n",
       "Initial Call Type               0\n",
       "Final Call Type                 0\n",
       "Original Time Queued            0\n",
       "Arrived Time                    0\n",
       "Precinct                        0\n",
       "Sector                         95\n",
       "Beat                            0\n",
       "dtype: int64"
      ]
     },
     "execution_count": 12,
     "metadata": {},
     "output_type": "execute_result"
    }
   ],
   "source": [
    "# Missing Data\n",
    "df.isnull().sum()"
   ]
  },
  {
   "cell_type": "code",
   "execution_count": 6,
   "id": "0ec3e801",
   "metadata": {},
   "outputs": [
    {
     "name": "stdout",
     "output_type": "stream",
     "text": [
      "Event Clearance Description    [ASSISTANCE RENDERED, REPORT WRITTEN (NO ARRES...\n",
      "Call Type                      [ONVIEW, 911, TELEPHONE OTHER, NOT 911, ALARM ...\n",
      "Priority                                            [3, 2, 7, 1, 9, 4, 5, 6, -1]\n",
      "Initial Call Type              [PREMISE CHECK, OFFICER INITIATED ONVIEW ONLY,...\n",
      "Final Call Type                [--SUSPICIOUS CIRCUM. - SUSPICIOUS PERSON, --P...\n",
      "Original Time Queued           [03/27/2017 05:02:47 AM, 05/18/2016 06:04:43 P...\n",
      "Arrived Time                   [01/01/1900 12:00:00 AM, 03/27/2017 05:02:47 A...\n",
      "Precinct                          [WEST, NORTH, SOUTH, EAST, SOUTHWEST, UNKNOWN]\n",
      "Sector                         [KING, MARY, EDWARD, DAVID, UNION, SAM, NORA, ...\n",
      "Beat                           [K3, M3, E2, D2, N3, M1, K2, M2, D1, K1, Q3, U...\n",
      "dtype: object\n"
     ]
    }
   ],
   "source": [
    "# Unique Values\n",
    "col_uniques = vals_by_col(df, df.columns[2:])\n",
    "print(col_uniques)"
   ]
  },
  {
   "cell_type": "code",
   "execution_count": 8,
   "id": "cfdc7867",
   "metadata": {},
   "outputs": [
    {
     "data": {
      "text/plain": [
       "[25, 7, 9, 219, 245, 10000, 9291, 6, 17, 72]"
      ]
     },
     "execution_count": 8,
     "metadata": {},
     "output_type": "execute_result"
    }
   ],
   "source": [
    "# How many uniques are there?\n",
    "[len(uniques) for uniques in col_uniques]"
   ]
  },
  {
   "cell_type": "code",
   "execution_count": 10,
   "id": "6395fee4",
   "metadata": {},
   "outputs": [
    {
     "name": "stdout",
     "output_type": "stream",
     "text": [
      "['Event Clearance Description']\n"
     ]
    }
   ],
   "source": [
    "# Potentially hidden Missing Data: \"-\"\n",
    "\"\"\"\n",
    "Hard to tell from the view above, but further examination revealed that there was another type of missing data point,\n",
    "which presented itself as a dash, \"-\"\n",
    "\"\"\"\n",
    "marked_null = []\n",
    "for col_num, col in enumerate(col_uniques):\n",
    "    if '-' in col:\n",
    "        marked_null.append(col_uniques.index[col_num])\n",
    "print(marked_null)"
   ]
  },
  {
   "cell_type": "code",
   "execution_count": 12,
   "id": "9ba7aca9",
   "metadata": {},
   "outputs": [
    {
     "data": {
      "text/plain": [
       "ASSISTANCE RENDERED                                                    4348\n",
       "REPORT WRITTEN (NO ARREST)                                             2016\n",
       "UNABLE TO LOCATE INCIDENT OR COMPLAINANT                                693\n",
       "CITATION ISSUED (CRIMINAL OR NON-CRIMINAL)                              490\n",
       "ORAL WARNING GIVEN                                                      454\n",
       "PHYSICAL ARREST MADE                                                    314\n",
       "NO POLICE ACTION POSSIBLE OR NECESSARY                                  270\n",
       "PROBLEM SOLVING PROJECT                                                 264\n",
       "FALSE COMPLAINT/UNFOUNDED                                               264\n",
       "OTHER REPORT MADE                                                       259\n",
       "FOLLOW-UP REPORT MADE                                                   161\n",
       "RESPONDING UNIT(S) CANCELLED BY RADIO                                   141\n",
       "DUPLICATED OR CANCELLED BY RADIO                                         74\n",
       "-                                                                        63\n",
       "STREET CHECK WRITTEN                                                     49\n",
       "INCIDENT LOCATED, PUBLIC ORDER RESTORED                                  37\n",
       "TRANSPORTATION OR ESCORT PROVIDED                                        31\n",
       "RADIO BROADCAST AND CLEAR                                                27\n",
       "Citations – Criminal Citation Issued (new incident number required)      17\n",
       "Evidence Submitted (new incident number required)                        11\n",
       "NON-CRIMINAL REFERRAL                                                     6\n",
       "PRIORITY CALL HANDLING                                                    4\n",
       "SERVICE OF DVPA ORDER                                                     3\n",
       "EXTRA UNIT                                                                2\n",
       "NO SUCH ADDRESS OR LOCATION                                               2\n",
       "Name: Event Clearance Description, dtype: int64"
      ]
     },
     "execution_count": 12,
     "metadata": {},
     "output_type": "execute_result"
    }
   ],
   "source": [
    "df['Event Clearance Description'].value_counts()"
   ]
  },
  {
   "cell_type": "code",
   "execution_count": 13,
   "id": "54801c6a",
   "metadata": {},
   "outputs": [
    {
     "data": {
      "text/plain": [
       "63"
      ]
     },
     "execution_count": 13,
     "metadata": {},
     "output_type": "execute_result"
    }
   ],
   "source": [
    "df['Event Clearance Description'].value_counts().loc['-']"
   ]
  },
  {
   "cell_type": "code",
   "execution_count": 17,
   "id": "c89ab206",
   "metadata": {},
   "outputs": [],
   "source": [
    "# Remove nulls and blanks in data\n",
    "df.dropna(axis = 0, inplace = True)\n",
    "df.drop(df[df['Event Clearance Description'] == '-'].index, inplace = True)"
   ]
  },
  {
   "cell_type": "code",
   "execution_count": 19,
   "id": "7c158eaa",
   "metadata": {},
   "outputs": [
    {
     "data": {
      "text/plain": [
       "(9843, 10)"
      ]
     },
     "execution_count": 19,
     "metadata": {},
     "output_type": "execute_result"
    }
   ],
   "source": [
    "# Additionally, the first two columns are essentially covered by index, we'll remove those\n",
    "df = df.drop(['Unnamed: 0', 'CAD Event Number'], axis=1)\n",
    "df.shape"
   ]
  },
  {
   "cell_type": "code",
   "execution_count": null,
   "id": "81fc7b65",
   "metadata": {},
   "outputs": [],
   "source": []
  },
  {
   "cell_type": "markdown",
   "id": "3143301b",
   "metadata": {},
   "source": [
    "## Potential Questions\n",
    "1. What time of the year / week / day do the majority of the calls come in?\n",
    "2. Do amount of calls / priority of calls change by precint, sector or beat?\n",
    "3. What determines priority?\n",
    "\n",
    "After performing some research on Computer-Aided-Dispatch systems (CAD), it appears the system itself assigns a Priority rating. Unfortunately, we're missing some of the datapoints actually used in assigning the Priority rating. However, let's see if how closely we can build a model that will predict Priority ratings.\n",
    "\n",
    "4. Can we buld a model to accurately predict Priority ratings?"
   ]
  },
  {
   "cell_type": "markdown",
   "id": "105d980a",
   "metadata": {},
   "source": [
    "## Potential Question 1\n",
    "What time of the year / week / day do the majority of the calls come in?"
   ]
  },
  {
   "cell_type": "markdown",
   "id": "bc27c3a8",
   "metadata": {},
   "source": [
    "## Potential Question 2\n",
    "Do amount of calls / priority of calls change by precint, sector or beat?"
   ]
  },
  {
   "cell_type": "markdown",
   "id": "22c15874",
   "metadata": {},
   "source": [
    "## Potential Question 3\n",
    "What determines priority?"
   ]
  },
  {
   "cell_type": "markdown",
   "id": "558f1d19",
   "metadata": {},
   "source": [
    "## Potential Question Freestyle\n",
    "Did we uncover anything interesting that we should explore further before building a model?"
   ]
  },
  {
   "cell_type": "markdown",
   "id": "12561e0e",
   "metadata": {},
   "source": [
    "## Creating the Predictive Model"
   ]
  },
  {
   "cell_type": "code",
   "execution_count": null,
   "id": "11406c5a",
   "metadata": {},
   "outputs": [],
   "source": []
  }
 ],
 "metadata": {
  "kernelspec": {
   "display_name": "Python 3 (ipykernel)",
   "language": "python",
   "name": "python3"
  },
  "language_info": {
   "codemirror_mode": {
    "name": "ipython",
    "version": 3
   },
   "file_extension": ".py",
   "mimetype": "text/x-python",
   "name": "python",
   "nbconvert_exporter": "python",
   "pygments_lexer": "ipython3",
   "version": "3.9.12"
  }
 },
 "nbformat": 4,
 "nbformat_minor": 5
}
